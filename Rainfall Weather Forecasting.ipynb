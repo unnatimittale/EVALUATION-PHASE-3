{
 "cells": [
  {
   "cell_type": "code",
   "execution_count": 304,
   "id": "0e800015",
   "metadata": {},
   "outputs": [],
   "source": [
    "import pandas as pd\n",
    "import numpy as np\n",
    "import matplotlib.pyplot as plt\n",
    "import seaborn as sns\n",
    "from sklearn.ensemble import RandomForestRegressor\n",
    "from sklearn.datasets import make_regression\n",
    "from sklearn.model_selection import train_test_split, GridSearchCV, cross_val_score\n",
    "from sklearn.preprocessing import StandardScaler\n",
    "from sklearn.ensemble import RandomForestClassifier\n",
    "from sklearn.svm import SVC\n",
    "from sklearn.metrics import confusion_matrix\n",
    "from sklearn.metrics import accuracy_score\n",
    "import warnings\n",
    "warnings.filterwarnings(\"ignore\")\n",
    "from sklearn.linear_model import LinearRegression\n",
    "from sklearn.metrics import mean_squared_error, mean_absolute_error\n",
    "from sklearn.svm import SVR\n",
    "from xgboost import XGBRegressor\n",
    "from sklearn.datasets import load_iris\n",
    "from sklearn.linear_model import LogisticRegression\n",
    "from sklearn.tree import DecisionTreeClassifier\n",
    "from sklearn.preprocessing import (FunctionTransformer, StandardScaler) \n",
    "from sklearn.pipeline import Pipeline\n",
    " # streaming pipelines\n",
    "from sklearn.base import BaseEstimator, TransformerMixin \n",
    "# To create a box-cox transformation class\n",
    "from collections import Counter"
   ]
  },
  {
   "cell_type": "code",
   "execution_count": 305,
   "id": "20f077d4",
   "metadata": {},
   "outputs": [
    {
     "data": {
      "text/html": [
       "<div>\n",
       "<style scoped>\n",
       "    .dataframe tbody tr th:only-of-type {\n",
       "        vertical-align: middle;\n",
       "    }\n",
       "\n",
       "    .dataframe tbody tr th {\n",
       "        vertical-align: top;\n",
       "    }\n",
       "\n",
       "    .dataframe thead th {\n",
       "        text-align: right;\n",
       "    }\n",
       "</style>\n",
       "<table border=\"1\" class=\"dataframe\">\n",
       "  <thead>\n",
       "    <tr style=\"text-align: right;\">\n",
       "      <th></th>\n",
       "      <th>Date</th>\n",
       "      <th>Location</th>\n",
       "      <th>MinTemp</th>\n",
       "      <th>MaxTemp</th>\n",
       "      <th>Rainfall</th>\n",
       "      <th>Evaporation</th>\n",
       "      <th>Sunshine</th>\n",
       "      <th>WindGustDir</th>\n",
       "      <th>WindGustSpeed</th>\n",
       "      <th>WindDir9am</th>\n",
       "      <th>...</th>\n",
       "      <th>Humidity9am</th>\n",
       "      <th>Humidity3pm</th>\n",
       "      <th>Pressure9am</th>\n",
       "      <th>Pressure3pm</th>\n",
       "      <th>Cloud9am</th>\n",
       "      <th>Cloud3pm</th>\n",
       "      <th>Temp9am</th>\n",
       "      <th>Temp3pm</th>\n",
       "      <th>RainToday</th>\n",
       "      <th>RainTomorrow</th>\n",
       "    </tr>\n",
       "  </thead>\n",
       "  <tbody>\n",
       "    <tr>\n",
       "      <th>0</th>\n",
       "      <td>2008-12-01</td>\n",
       "      <td>Albury</td>\n",
       "      <td>13.4</td>\n",
       "      <td>22.9</td>\n",
       "      <td>0.6</td>\n",
       "      <td>NaN</td>\n",
       "      <td>NaN</td>\n",
       "      <td>W</td>\n",
       "      <td>44.0</td>\n",
       "      <td>W</td>\n",
       "      <td>...</td>\n",
       "      <td>71.0</td>\n",
       "      <td>22.0</td>\n",
       "      <td>1007.7</td>\n",
       "      <td>1007.1</td>\n",
       "      <td>8.0</td>\n",
       "      <td>NaN</td>\n",
       "      <td>16.9</td>\n",
       "      <td>21.8</td>\n",
       "      <td>No</td>\n",
       "      <td>No</td>\n",
       "    </tr>\n",
       "    <tr>\n",
       "      <th>1</th>\n",
       "      <td>2008-12-02</td>\n",
       "      <td>Albury</td>\n",
       "      <td>7.4</td>\n",
       "      <td>25.1</td>\n",
       "      <td>0.0</td>\n",
       "      <td>NaN</td>\n",
       "      <td>NaN</td>\n",
       "      <td>WNW</td>\n",
       "      <td>44.0</td>\n",
       "      <td>NNW</td>\n",
       "      <td>...</td>\n",
       "      <td>44.0</td>\n",
       "      <td>25.0</td>\n",
       "      <td>1010.6</td>\n",
       "      <td>1007.8</td>\n",
       "      <td>NaN</td>\n",
       "      <td>NaN</td>\n",
       "      <td>17.2</td>\n",
       "      <td>24.3</td>\n",
       "      <td>No</td>\n",
       "      <td>No</td>\n",
       "    </tr>\n",
       "    <tr>\n",
       "      <th>2</th>\n",
       "      <td>2008-12-03</td>\n",
       "      <td>Albury</td>\n",
       "      <td>12.9</td>\n",
       "      <td>25.7</td>\n",
       "      <td>0.0</td>\n",
       "      <td>NaN</td>\n",
       "      <td>NaN</td>\n",
       "      <td>WSW</td>\n",
       "      <td>46.0</td>\n",
       "      <td>W</td>\n",
       "      <td>...</td>\n",
       "      <td>38.0</td>\n",
       "      <td>30.0</td>\n",
       "      <td>1007.6</td>\n",
       "      <td>1008.7</td>\n",
       "      <td>NaN</td>\n",
       "      <td>2.0</td>\n",
       "      <td>21.0</td>\n",
       "      <td>23.2</td>\n",
       "      <td>No</td>\n",
       "      <td>No</td>\n",
       "    </tr>\n",
       "    <tr>\n",
       "      <th>3</th>\n",
       "      <td>2008-12-04</td>\n",
       "      <td>Albury</td>\n",
       "      <td>9.2</td>\n",
       "      <td>28.0</td>\n",
       "      <td>0.0</td>\n",
       "      <td>NaN</td>\n",
       "      <td>NaN</td>\n",
       "      <td>NE</td>\n",
       "      <td>24.0</td>\n",
       "      <td>SE</td>\n",
       "      <td>...</td>\n",
       "      <td>45.0</td>\n",
       "      <td>16.0</td>\n",
       "      <td>1017.6</td>\n",
       "      <td>1012.8</td>\n",
       "      <td>NaN</td>\n",
       "      <td>NaN</td>\n",
       "      <td>18.1</td>\n",
       "      <td>26.5</td>\n",
       "      <td>No</td>\n",
       "      <td>No</td>\n",
       "    </tr>\n",
       "    <tr>\n",
       "      <th>4</th>\n",
       "      <td>2008-12-05</td>\n",
       "      <td>Albury</td>\n",
       "      <td>17.5</td>\n",
       "      <td>32.3</td>\n",
       "      <td>1.0</td>\n",
       "      <td>NaN</td>\n",
       "      <td>NaN</td>\n",
       "      <td>W</td>\n",
       "      <td>41.0</td>\n",
       "      <td>ENE</td>\n",
       "      <td>...</td>\n",
       "      <td>82.0</td>\n",
       "      <td>33.0</td>\n",
       "      <td>1010.8</td>\n",
       "      <td>1006.0</td>\n",
       "      <td>7.0</td>\n",
       "      <td>8.0</td>\n",
       "      <td>17.8</td>\n",
       "      <td>29.7</td>\n",
       "      <td>No</td>\n",
       "      <td>No</td>\n",
       "    </tr>\n",
       "  </tbody>\n",
       "</table>\n",
       "<p>5 rows × 23 columns</p>\n",
       "</div>"
      ],
      "text/plain": [
       "         Date Location  MinTemp  MaxTemp  Rainfall  Evaporation  Sunshine  \\\n",
       "0  2008-12-01   Albury     13.4     22.9       0.6          NaN       NaN   \n",
       "1  2008-12-02   Albury      7.4     25.1       0.0          NaN       NaN   \n",
       "2  2008-12-03   Albury     12.9     25.7       0.0          NaN       NaN   \n",
       "3  2008-12-04   Albury      9.2     28.0       0.0          NaN       NaN   \n",
       "4  2008-12-05   Albury     17.5     32.3       1.0          NaN       NaN   \n",
       "\n",
       "  WindGustDir  WindGustSpeed WindDir9am  ... Humidity9am  Humidity3pm  \\\n",
       "0           W           44.0          W  ...        71.0         22.0   \n",
       "1         WNW           44.0        NNW  ...        44.0         25.0   \n",
       "2         WSW           46.0          W  ...        38.0         30.0   \n",
       "3          NE           24.0         SE  ...        45.0         16.0   \n",
       "4           W           41.0        ENE  ...        82.0         33.0   \n",
       "\n",
       "   Pressure9am  Pressure3pm  Cloud9am  Cloud3pm  Temp9am  Temp3pm  RainToday  \\\n",
       "0       1007.7       1007.1       8.0       NaN     16.9     21.8         No   \n",
       "1       1010.6       1007.8       NaN       NaN     17.2     24.3         No   \n",
       "2       1007.6       1008.7       NaN       2.0     21.0     23.2         No   \n",
       "3       1017.6       1012.8       NaN       NaN     18.1     26.5         No   \n",
       "4       1010.8       1006.0       7.0       8.0     17.8     29.7         No   \n",
       "\n",
       "   RainTomorrow  \n",
       "0            No  \n",
       "1            No  \n",
       "2            No  \n",
       "3            No  \n",
       "4            No  \n",
       "\n",
       "[5 rows x 23 columns]"
      ]
     },
     "execution_count": 305,
     "metadata": {},
     "output_type": "execute_result"
    }
   ],
   "source": [
    "rwf_df = pd.read_csv(r\"C:\\Users\\SONY\\Downloads\\weatherAUS.csv\")\n",
    "rwf_df.head()"
   ]
  },
  {
   "cell_type": "code",
   "execution_count": 306,
   "id": "ba1aa93e",
   "metadata": {},
   "outputs": [
    {
     "name": "stdout",
     "output_type": "stream",
     "text": [
      "<class 'pandas.core.frame.DataFrame'>\n",
      "RangeIndex: 8425 entries, 0 to 8424\n",
      "Data columns (total 23 columns):\n",
      " #   Column         Non-Null Count  Dtype  \n",
      "---  ------         --------------  -----  \n",
      " 0   Date           8425 non-null   object \n",
      " 1   Location       8425 non-null   object \n",
      " 2   MinTemp        8350 non-null   float64\n",
      " 3   MaxTemp        8365 non-null   float64\n",
      " 4   Rainfall       8185 non-null   float64\n",
      " 5   Evaporation    4913 non-null   float64\n",
      " 6   Sunshine       4431 non-null   float64\n",
      " 7   WindGustDir    7434 non-null   object \n",
      " 8   WindGustSpeed  7434 non-null   float64\n",
      " 9   WindDir9am     7596 non-null   object \n",
      " 10  WindDir3pm     8117 non-null   object \n",
      " 11  WindSpeed9am   8349 non-null   float64\n",
      " 12  WindSpeed3pm   8318 non-null   float64\n",
      " 13  Humidity9am    8366 non-null   float64\n",
      " 14  Humidity3pm    8323 non-null   float64\n",
      " 15  Pressure9am    7116 non-null   float64\n",
      " 16  Pressure3pm    7113 non-null   float64\n",
      " 17  Cloud9am       6004 non-null   float64\n",
      " 18  Cloud3pm       5970 non-null   float64\n",
      " 19  Temp9am        8369 non-null   float64\n",
      " 20  Temp3pm        8329 non-null   float64\n",
      " 21  RainToday      8185 non-null   object \n",
      " 22  RainTomorrow   8186 non-null   object \n",
      "dtypes: float64(16), object(7)\n",
      "memory usage: 1.5+ MB\n"
     ]
    }
   ],
   "source": [
    "rwf_df.info()\n"
   ]
  },
  {
   "cell_type": "markdown",
   "id": "255c4ff7",
   "metadata": {},
   "source": [
    "# DATA CLEANING "
   ]
  },
  {
   "cell_type": "code",
   "execution_count": 307,
   "id": "8f7474d7",
   "metadata": {},
   "outputs": [
    {
     "data": {
      "text/plain": [
       "Date                0\n",
       "Location            0\n",
       "MinTemp            75\n",
       "MaxTemp            60\n",
       "Rainfall          240\n",
       "Evaporation      3512\n",
       "Sunshine         3994\n",
       "WindGustDir       991\n",
       "WindGustSpeed     991\n",
       "WindDir9am        829\n",
       "WindDir3pm        308\n",
       "WindSpeed9am       76\n",
       "WindSpeed3pm      107\n",
       "Humidity9am        59\n",
       "Humidity3pm       102\n",
       "Pressure9am      1309\n",
       "Pressure3pm      1312\n",
       "Cloud9am         2421\n",
       "Cloud3pm         2455\n",
       "Temp9am            56\n",
       "Temp3pm            96\n",
       "RainToday         240\n",
       "RainTomorrow      239\n",
       "dtype: int64"
      ]
     },
     "execution_count": 307,
     "metadata": {},
     "output_type": "execute_result"
    }
   ],
   "source": [
    "rwf_df.isnull().sum()"
   ]
  },
  {
   "cell_type": "code",
   "execution_count": 308,
   "id": "d5001538",
   "metadata": {},
   "outputs": [],
   "source": [
    "rwf_df['RainToday'] = rwf_df['RainToday'].fillna(rwf_df['RainToday'].mode()[0])"
   ]
  },
  {
   "cell_type": "code",
   "execution_count": 309,
   "id": "33c0045b",
   "metadata": {},
   "outputs": [],
   "source": [
    "rwf_df['RainTomorrow'] = rwf_df['RainTomorrow'].fillna(rwf_df['RainTomorrow'].mode()[0])"
   ]
  },
  {
   "cell_type": "code",
   "execution_count": 310,
   "id": "904f3f09",
   "metadata": {},
   "outputs": [],
   "source": [
    "rwf_df['WindDir9am'] = rwf_df['WindDir9am'].fillna(rwf_df['WindDir9am'].mode()[0])"
   ]
  },
  {
   "cell_type": "code",
   "execution_count": 311,
   "id": "4d365c6d",
   "metadata": {},
   "outputs": [],
   "source": [
    "rwf_df['WindDir3pm'] = rwf_df['WindDir3pm'].fillna(rwf_df['WindDir3pm'].mode()[0])"
   ]
  },
  {
   "cell_type": "code",
   "execution_count": 312,
   "id": "bf7b614e",
   "metadata": {},
   "outputs": [],
   "source": [
    "rwf_df['WindGustDir'] = rwf_df['WindGustDir'].fillna(rwf_df['WindGustDir'].mode()[0])"
   ]
  },
  {
   "cell_type": "code",
   "execution_count": 313,
   "id": "f4ed2159",
   "metadata": {},
   "outputs": [
    {
     "data": {
      "text/plain": [
       "Date                0\n",
       "Location            0\n",
       "MinTemp            75\n",
       "MaxTemp            60\n",
       "Rainfall          240\n",
       "Evaporation      3512\n",
       "Sunshine         3994\n",
       "WindGustDir         0\n",
       "WindGustSpeed     991\n",
       "WindDir9am          0\n",
       "WindDir3pm          0\n",
       "WindSpeed9am       76\n",
       "WindSpeed3pm      107\n",
       "Humidity9am        59\n",
       "Humidity3pm       102\n",
       "Pressure9am      1309\n",
       "Pressure3pm      1312\n",
       "Cloud9am         2421\n",
       "Cloud3pm         2455\n",
       "Temp9am            56\n",
       "Temp3pm            96\n",
       "RainToday           0\n",
       "RainTomorrow        0\n",
       "dtype: int64"
      ]
     },
     "execution_count": 313,
     "metadata": {},
     "output_type": "execute_result"
    }
   ],
   "source": [
    "rwf_df.isnull().sum()"
   ]
  },
  {
   "cell_type": "code",
   "execution_count": 314,
   "id": "022d8494",
   "metadata": {},
   "outputs": [],
   "source": [
    "rwf_df['MinTemp'] = rwf_df['MinTemp'].fillna( rwf_df['MinTemp'].dropna().mean() )\n"
   ]
  },
  {
   "cell_type": "code",
   "execution_count": 315,
   "id": "a37d9e8e",
   "metadata": {},
   "outputs": [],
   "source": [
    "rwf_df['MaxTemp'] = rwf_df['MaxTemp'].fillna( rwf_df['MaxTemp'].dropna().mean() )\n"
   ]
  },
  {
   "cell_type": "code",
   "execution_count": 316,
   "id": "a6ec850d",
   "metadata": {},
   "outputs": [],
   "source": [
    "rwf_df['Rainfall'] = rwf_df['Rainfall'].fillna( rwf_df['Rainfall'].dropna().mean() )\n"
   ]
  },
  {
   "cell_type": "code",
   "execution_count": 317,
   "id": "af839857",
   "metadata": {},
   "outputs": [],
   "source": [
    "rwf_df['Evaporation'] = rwf_df['Evaporation'].fillna( rwf_df['Evaporation'].dropna().mean() )\n"
   ]
  },
  {
   "cell_type": "code",
   "execution_count": 318,
   "id": "25c8f4ae",
   "metadata": {},
   "outputs": [],
   "source": [
    "rwf_df['Sunshine'] = rwf_df['Sunshine'].fillna( rwf_df['Sunshine'].dropna().mean() )\n"
   ]
  },
  {
   "cell_type": "code",
   "execution_count": 319,
   "id": "21699308",
   "metadata": {},
   "outputs": [],
   "source": [
    "rwf_df['WindGustSpeed'] = rwf_df['WindGustSpeed'].fillna( rwf_df['WindGustSpeed'].dropna().mean() )\n"
   ]
  },
  {
   "cell_type": "code",
   "execution_count": 320,
   "id": "43433202",
   "metadata": {},
   "outputs": [],
   "source": [
    "rwf_df['WindSpeed9am'] = rwf_df['WindSpeed9am'].fillna( rwf_df['WindSpeed9am'].dropna().mean() )\n"
   ]
  },
  {
   "cell_type": "code",
   "execution_count": 321,
   "id": "7d636817",
   "metadata": {},
   "outputs": [],
   "source": [
    "rwf_df['WindSpeed3pm'] = rwf_df['WindSpeed3pm'].fillna( rwf_df['WindSpeed3pm'].dropna().mean() )\n"
   ]
  },
  {
   "cell_type": "code",
   "execution_count": 322,
   "id": "f7cf6ae8",
   "metadata": {},
   "outputs": [],
   "source": [
    "rwf_df['Humidity9am'] = rwf_df['Humidity9am'].fillna( rwf_df['Humidity9am'].dropna().mean() )\n"
   ]
  },
  {
   "cell_type": "code",
   "execution_count": 323,
   "id": "cfbf0edf",
   "metadata": {},
   "outputs": [],
   "source": [
    "rwf_df['Humidity3pm'] = rwf_df['Humidity3pm'].fillna( rwf_df['Humidity3pm'].dropna().mean() )\n"
   ]
  },
  {
   "cell_type": "code",
   "execution_count": 324,
   "id": "0b2da8f9",
   "metadata": {},
   "outputs": [],
   "source": [
    "rwf_df['Pressure9am'] = rwf_df['Pressure9am'].fillna( rwf_df['Pressure9am'].dropna().mean() )\n"
   ]
  },
  {
   "cell_type": "code",
   "execution_count": 325,
   "id": "b1d9253a",
   "metadata": {},
   "outputs": [],
   "source": [
    "rwf_df['Pressure3pm'] = rwf_df['Pressure3pm'].fillna( rwf_df['Pressure3pm'].dropna().mean() )\n"
   ]
  },
  {
   "cell_type": "code",
   "execution_count": 326,
   "id": "7e5de6f5",
   "metadata": {},
   "outputs": [],
   "source": [
    "rwf_df['Cloud9am'] = rwf_df['Cloud9am'].fillna( rwf_df['Cloud9am'].dropna().mean() )\n"
   ]
  },
  {
   "cell_type": "code",
   "execution_count": 327,
   "id": "22dbeb18",
   "metadata": {},
   "outputs": [],
   "source": [
    "rwf_df['Cloud3pm'] = rwf_df['Cloud3pm'].fillna( rwf_df['Cloud3pm'].dropna().mean() )\n"
   ]
  },
  {
   "cell_type": "code",
   "execution_count": 328,
   "id": "0fa90e00",
   "metadata": {},
   "outputs": [],
   "source": [
    "rwf_df['Temp9am'] = rwf_df['Temp9am'].fillna( rwf_df['Temp9am'].dropna().mean() )\n"
   ]
  },
  {
   "cell_type": "code",
   "execution_count": 329,
   "id": "73e029f2",
   "metadata": {},
   "outputs": [],
   "source": [
    "rwf_df['Temp3pm'] = rwf_df['Temp3pm'].fillna( rwf_df['Temp3pm'].dropna().mean() )\n"
   ]
  },
  {
   "cell_type": "code",
   "execution_count": 330,
   "id": "1bd6b360",
   "metadata": {},
   "outputs": [
    {
     "data": {
      "text/plain": [
       "Date             0\n",
       "Location         0\n",
       "MinTemp          0\n",
       "MaxTemp          0\n",
       "Rainfall         0\n",
       "Evaporation      0\n",
       "Sunshine         0\n",
       "WindGustDir      0\n",
       "WindGustSpeed    0\n",
       "WindDir9am       0\n",
       "WindDir3pm       0\n",
       "WindSpeed9am     0\n",
       "WindSpeed3pm     0\n",
       "Humidity9am      0\n",
       "Humidity3pm      0\n",
       "Pressure9am      0\n",
       "Pressure3pm      0\n",
       "Cloud9am         0\n",
       "Cloud3pm         0\n",
       "Temp9am          0\n",
       "Temp3pm          0\n",
       "RainToday        0\n",
       "RainTomorrow     0\n",
       "dtype: int64"
      ]
     },
     "execution_count": 330,
     "metadata": {},
     "output_type": "execute_result"
    }
   ],
   "source": [
    "rwf_df.isnull().sum()"
   ]
  },
  {
   "cell_type": "code",
   "execution_count": 331,
   "id": "b656ee91",
   "metadata": {},
   "outputs": [
    {
     "data": {
      "text/html": [
       "<div>\n",
       "<style scoped>\n",
       "    .dataframe tbody tr th:only-of-type {\n",
       "        vertical-align: middle;\n",
       "    }\n",
       "\n",
       "    .dataframe tbody tr th {\n",
       "        vertical-align: top;\n",
       "    }\n",
       "\n",
       "    .dataframe thead th {\n",
       "        text-align: right;\n",
       "    }\n",
       "</style>\n",
       "<table border=\"1\" class=\"dataframe\">\n",
       "  <thead>\n",
       "    <tr style=\"text-align: right;\">\n",
       "      <th></th>\n",
       "      <th>MinTemp</th>\n",
       "      <th>MaxTemp</th>\n",
       "      <th>Rainfall</th>\n",
       "      <th>Evaporation</th>\n",
       "      <th>Sunshine</th>\n",
       "      <th>WindGustSpeed</th>\n",
       "      <th>WindSpeed9am</th>\n",
       "      <th>WindSpeed3pm</th>\n",
       "      <th>Humidity9am</th>\n",
       "      <th>Humidity3pm</th>\n",
       "      <th>Pressure9am</th>\n",
       "      <th>Pressure3pm</th>\n",
       "      <th>Cloud9am</th>\n",
       "      <th>Cloud3pm</th>\n",
       "      <th>Temp9am</th>\n",
       "      <th>Temp3pm</th>\n",
       "    </tr>\n",
       "  </thead>\n",
       "  <tbody>\n",
       "    <tr>\n",
       "      <th>count</th>\n",
       "      <td>8425.000000</td>\n",
       "      <td>8425.000000</td>\n",
       "      <td>8425.000000</td>\n",
       "      <td>8425.000000</td>\n",
       "      <td>8425.000000</td>\n",
       "      <td>8425.000000</td>\n",
       "      <td>8425.000000</td>\n",
       "      <td>8425.000000</td>\n",
       "      <td>8425.000000</td>\n",
       "      <td>8425.000000</td>\n",
       "      <td>8425.000000</td>\n",
       "      <td>8425.000000</td>\n",
       "      <td>8425.000000</td>\n",
       "      <td>8425.000000</td>\n",
       "      <td>8425.000000</td>\n",
       "      <td>8425.000000</td>\n",
       "    </tr>\n",
       "    <tr>\n",
       "      <th>mean</th>\n",
       "      <td>13.193305</td>\n",
       "      <td>23.859976</td>\n",
       "      <td>2.805913</td>\n",
       "      <td>5.389395</td>\n",
       "      <td>7.632205</td>\n",
       "      <td>40.174469</td>\n",
       "      <td>13.847646</td>\n",
       "      <td>18.533662</td>\n",
       "      <td>67.822496</td>\n",
       "      <td>51.249790</td>\n",
       "      <td>1017.640233</td>\n",
       "      <td>1015.236075</td>\n",
       "      <td>4.566622</td>\n",
       "      <td>4.503183</td>\n",
       "      <td>17.762015</td>\n",
       "      <td>22.442934</td>\n",
       "    </tr>\n",
       "    <tr>\n",
       "      <th>std</th>\n",
       "      <td>5.379488</td>\n",
       "      <td>6.114516</td>\n",
       "      <td>10.309308</td>\n",
       "      <td>3.852004</td>\n",
       "      <td>2.825451</td>\n",
       "      <td>13.776101</td>\n",
       "      <td>10.128579</td>\n",
       "      <td>9.704759</td>\n",
       "      <td>16.774231</td>\n",
       "      <td>18.311894</td>\n",
       "      <td>6.275759</td>\n",
       "      <td>6.217451</td>\n",
       "      <td>2.429205</td>\n",
       "      <td>2.299419</td>\n",
       "      <td>5.608301</td>\n",
       "      <td>5.945849</td>\n",
       "    </tr>\n",
       "    <tr>\n",
       "      <th>min</th>\n",
       "      <td>-2.000000</td>\n",
       "      <td>8.200000</td>\n",
       "      <td>0.000000</td>\n",
       "      <td>0.000000</td>\n",
       "      <td>0.000000</td>\n",
       "      <td>7.000000</td>\n",
       "      <td>0.000000</td>\n",
       "      <td>0.000000</td>\n",
       "      <td>10.000000</td>\n",
       "      <td>6.000000</td>\n",
       "      <td>989.800000</td>\n",
       "      <td>982.900000</td>\n",
       "      <td>0.000000</td>\n",
       "      <td>0.000000</td>\n",
       "      <td>1.900000</td>\n",
       "      <td>7.300000</td>\n",
       "    </tr>\n",
       "    <tr>\n",
       "      <th>25%</th>\n",
       "      <td>9.300000</td>\n",
       "      <td>19.300000</td>\n",
       "      <td>0.000000</td>\n",
       "      <td>4.000000</td>\n",
       "      <td>7.632205</td>\n",
       "      <td>31.000000</td>\n",
       "      <td>6.000000</td>\n",
       "      <td>11.000000</td>\n",
       "      <td>56.000000</td>\n",
       "      <td>39.000000</td>\n",
       "      <td>1014.000000</td>\n",
       "      <td>1011.400000</td>\n",
       "      <td>3.000000</td>\n",
       "      <td>3.000000</td>\n",
       "      <td>13.800000</td>\n",
       "      <td>18.100000</td>\n",
       "    </tr>\n",
       "    <tr>\n",
       "      <th>50%</th>\n",
       "      <td>13.200000</td>\n",
       "      <td>23.300000</td>\n",
       "      <td>0.000000</td>\n",
       "      <td>5.389395</td>\n",
       "      <td>7.632205</td>\n",
       "      <td>40.174469</td>\n",
       "      <td>13.000000</td>\n",
       "      <td>19.000000</td>\n",
       "      <td>68.000000</td>\n",
       "      <td>51.000000</td>\n",
       "      <td>1017.640233</td>\n",
       "      <td>1015.236075</td>\n",
       "      <td>4.566622</td>\n",
       "      <td>4.503183</td>\n",
       "      <td>17.762015</td>\n",
       "      <td>22.000000</td>\n",
       "    </tr>\n",
       "    <tr>\n",
       "      <th>75%</th>\n",
       "      <td>17.300000</td>\n",
       "      <td>28.000000</td>\n",
       "      <td>1.400000</td>\n",
       "      <td>5.389395</td>\n",
       "      <td>8.900000</td>\n",
       "      <td>48.000000</td>\n",
       "      <td>20.000000</td>\n",
       "      <td>24.000000</td>\n",
       "      <td>80.000000</td>\n",
       "      <td>63.000000</td>\n",
       "      <td>1021.300000</td>\n",
       "      <td>1018.800000</td>\n",
       "      <td>7.000000</td>\n",
       "      <td>7.000000</td>\n",
       "      <td>21.900000</td>\n",
       "      <td>26.300000</td>\n",
       "    </tr>\n",
       "    <tr>\n",
       "      <th>max</th>\n",
       "      <td>28.500000</td>\n",
       "      <td>45.500000</td>\n",
       "      <td>371.000000</td>\n",
       "      <td>145.000000</td>\n",
       "      <td>13.900000</td>\n",
       "      <td>107.000000</td>\n",
       "      <td>63.000000</td>\n",
       "      <td>83.000000</td>\n",
       "      <td>100.000000</td>\n",
       "      <td>99.000000</td>\n",
       "      <td>1039.000000</td>\n",
       "      <td>1036.000000</td>\n",
       "      <td>8.000000</td>\n",
       "      <td>8.000000</td>\n",
       "      <td>39.400000</td>\n",
       "      <td>44.100000</td>\n",
       "    </tr>\n",
       "  </tbody>\n",
       "</table>\n",
       "</div>"
      ],
      "text/plain": [
       "           MinTemp      MaxTemp     Rainfall  Evaporation     Sunshine  \\\n",
       "count  8425.000000  8425.000000  8425.000000  8425.000000  8425.000000   \n",
       "mean     13.193305    23.859976     2.805913     5.389395     7.632205   \n",
       "std       5.379488     6.114516    10.309308     3.852004     2.825451   \n",
       "min      -2.000000     8.200000     0.000000     0.000000     0.000000   \n",
       "25%       9.300000    19.300000     0.000000     4.000000     7.632205   \n",
       "50%      13.200000    23.300000     0.000000     5.389395     7.632205   \n",
       "75%      17.300000    28.000000     1.400000     5.389395     8.900000   \n",
       "max      28.500000    45.500000   371.000000   145.000000    13.900000   \n",
       "\n",
       "       WindGustSpeed  WindSpeed9am  WindSpeed3pm  Humidity9am  Humidity3pm  \\\n",
       "count    8425.000000   8425.000000   8425.000000  8425.000000  8425.000000   \n",
       "mean       40.174469     13.847646     18.533662    67.822496    51.249790   \n",
       "std        13.776101     10.128579      9.704759    16.774231    18.311894   \n",
       "min         7.000000      0.000000      0.000000    10.000000     6.000000   \n",
       "25%        31.000000      6.000000     11.000000    56.000000    39.000000   \n",
       "50%        40.174469     13.000000     19.000000    68.000000    51.000000   \n",
       "75%        48.000000     20.000000     24.000000    80.000000    63.000000   \n",
       "max       107.000000     63.000000     83.000000   100.000000    99.000000   \n",
       "\n",
       "       Pressure9am  Pressure3pm     Cloud9am     Cloud3pm      Temp9am  \\\n",
       "count  8425.000000  8425.000000  8425.000000  8425.000000  8425.000000   \n",
       "mean   1017.640233  1015.236075     4.566622     4.503183    17.762015   \n",
       "std       6.275759     6.217451     2.429205     2.299419     5.608301   \n",
       "min     989.800000   982.900000     0.000000     0.000000     1.900000   \n",
       "25%    1014.000000  1011.400000     3.000000     3.000000    13.800000   \n",
       "50%    1017.640233  1015.236075     4.566622     4.503183    17.762015   \n",
       "75%    1021.300000  1018.800000     7.000000     7.000000    21.900000   \n",
       "max    1039.000000  1036.000000     8.000000     8.000000    39.400000   \n",
       "\n",
       "           Temp3pm  \n",
       "count  8425.000000  \n",
       "mean     22.442934  \n",
       "std       5.945849  \n",
       "min       7.300000  \n",
       "25%      18.100000  \n",
       "50%      22.000000  \n",
       "75%      26.300000  \n",
       "max      44.100000  "
      ]
     },
     "execution_count": 331,
     "metadata": {},
     "output_type": "execute_result"
    }
   ],
   "source": [
    "rwf_df.describe()"
   ]
  },
  {
   "cell_type": "code",
   "execution_count": 332,
   "id": "10bc8227",
   "metadata": {},
   "outputs": [
    {
     "data": {
      "text/plain": [
       "No     76.37 %\n",
       "Yes    23.63 %\n",
       "Name: RainTomorrow, dtype: object"
      ]
     },
     "execution_count": 332,
     "metadata": {},
     "output_type": "execute_result"
    }
   ],
   "source": [
    "# Checking the counts of label categories\n",
    "RainTomorrow = rwf_df['RainTomorrow'].value_counts(normalize=True)\n",
    "round(RainTomorrow * 100, 2).astype('str') + ' %'"
   ]
  },
  {
   "cell_type": "markdown",
   "id": "de42447c",
   "metadata": {},
   "source": [
    "Observations:\n",
    "\n",
    "The dataset is unbalanced, as the dependent feature 'RainTomorrow' contains 76.37% values have RainTomorrow as no and 23.63% values have RainTomorrow as yes."
   ]
  },
  {
   "cell_type": "code",
   "execution_count": 337,
   "id": "deb942cf",
   "metadata": {},
   "outputs": [],
   "source": [
    "rwf_df.replace({'Yes':1, 'No':0}, inplace=True)\n"
   ]
  },
  {
   "cell_type": "code",
   "execution_count": 338,
   "id": "c45078a0",
   "metadata": {},
   "outputs": [
    {
     "data": {
      "text/html": [
       "<div>\n",
       "<style scoped>\n",
       "    .dataframe tbody tr th:only-of-type {\n",
       "        vertical-align: middle;\n",
       "    }\n",
       "\n",
       "    .dataframe tbody tr th {\n",
       "        vertical-align: top;\n",
       "    }\n",
       "\n",
       "    .dataframe thead th {\n",
       "        text-align: right;\n",
       "    }\n",
       "</style>\n",
       "<table border=\"1\" class=\"dataframe\">\n",
       "  <thead>\n",
       "    <tr style=\"text-align: right;\">\n",
       "      <th></th>\n",
       "      <th>Date</th>\n",
       "      <th>Location</th>\n",
       "      <th>MinTemp</th>\n",
       "      <th>MaxTemp</th>\n",
       "      <th>Rainfall</th>\n",
       "      <th>Evaporation</th>\n",
       "      <th>Sunshine</th>\n",
       "      <th>WindGustDir</th>\n",
       "      <th>WindGustSpeed</th>\n",
       "      <th>WindDir9am</th>\n",
       "      <th>...</th>\n",
       "      <th>Humidity9am</th>\n",
       "      <th>Humidity3pm</th>\n",
       "      <th>Pressure9am</th>\n",
       "      <th>Pressure3pm</th>\n",
       "      <th>Cloud9am</th>\n",
       "      <th>Cloud3pm</th>\n",
       "      <th>Temp9am</th>\n",
       "      <th>Temp3pm</th>\n",
       "      <th>RainToday</th>\n",
       "      <th>RainTomorrow</th>\n",
       "    </tr>\n",
       "  </thead>\n",
       "  <tbody>\n",
       "    <tr>\n",
       "      <th>0</th>\n",
       "      <td>2008-12-01</td>\n",
       "      <td>Albury</td>\n",
       "      <td>13.4</td>\n",
       "      <td>22.9</td>\n",
       "      <td>0.6</td>\n",
       "      <td>5.389395</td>\n",
       "      <td>7.632205</td>\n",
       "      <td>W</td>\n",
       "      <td>44.0</td>\n",
       "      <td>W</td>\n",
       "      <td>...</td>\n",
       "      <td>71.0</td>\n",
       "      <td>22.0</td>\n",
       "      <td>1007.7</td>\n",
       "      <td>1007.1</td>\n",
       "      <td>8.000000</td>\n",
       "      <td>4.503183</td>\n",
       "      <td>16.9</td>\n",
       "      <td>21.8</td>\n",
       "      <td>0</td>\n",
       "      <td>0</td>\n",
       "    </tr>\n",
       "    <tr>\n",
       "      <th>1</th>\n",
       "      <td>2008-12-02</td>\n",
       "      <td>Albury</td>\n",
       "      <td>7.4</td>\n",
       "      <td>25.1</td>\n",
       "      <td>0.0</td>\n",
       "      <td>5.389395</td>\n",
       "      <td>7.632205</td>\n",
       "      <td>WNW</td>\n",
       "      <td>44.0</td>\n",
       "      <td>NNW</td>\n",
       "      <td>...</td>\n",
       "      <td>44.0</td>\n",
       "      <td>25.0</td>\n",
       "      <td>1010.6</td>\n",
       "      <td>1007.8</td>\n",
       "      <td>4.566622</td>\n",
       "      <td>4.503183</td>\n",
       "      <td>17.2</td>\n",
       "      <td>24.3</td>\n",
       "      <td>0</td>\n",
       "      <td>0</td>\n",
       "    </tr>\n",
       "    <tr>\n",
       "      <th>2</th>\n",
       "      <td>2008-12-03</td>\n",
       "      <td>Albury</td>\n",
       "      <td>12.9</td>\n",
       "      <td>25.7</td>\n",
       "      <td>0.0</td>\n",
       "      <td>5.389395</td>\n",
       "      <td>7.632205</td>\n",
       "      <td>WSW</td>\n",
       "      <td>46.0</td>\n",
       "      <td>W</td>\n",
       "      <td>...</td>\n",
       "      <td>38.0</td>\n",
       "      <td>30.0</td>\n",
       "      <td>1007.6</td>\n",
       "      <td>1008.7</td>\n",
       "      <td>4.566622</td>\n",
       "      <td>2.000000</td>\n",
       "      <td>21.0</td>\n",
       "      <td>23.2</td>\n",
       "      <td>0</td>\n",
       "      <td>0</td>\n",
       "    </tr>\n",
       "    <tr>\n",
       "      <th>3</th>\n",
       "      <td>2008-12-04</td>\n",
       "      <td>Albury</td>\n",
       "      <td>9.2</td>\n",
       "      <td>28.0</td>\n",
       "      <td>0.0</td>\n",
       "      <td>5.389395</td>\n",
       "      <td>7.632205</td>\n",
       "      <td>NE</td>\n",
       "      <td>24.0</td>\n",
       "      <td>SE</td>\n",
       "      <td>...</td>\n",
       "      <td>45.0</td>\n",
       "      <td>16.0</td>\n",
       "      <td>1017.6</td>\n",
       "      <td>1012.8</td>\n",
       "      <td>4.566622</td>\n",
       "      <td>4.503183</td>\n",
       "      <td>18.1</td>\n",
       "      <td>26.5</td>\n",
       "      <td>0</td>\n",
       "      <td>0</td>\n",
       "    </tr>\n",
       "    <tr>\n",
       "      <th>4</th>\n",
       "      <td>2008-12-05</td>\n",
       "      <td>Albury</td>\n",
       "      <td>17.5</td>\n",
       "      <td>32.3</td>\n",
       "      <td>1.0</td>\n",
       "      <td>5.389395</td>\n",
       "      <td>7.632205</td>\n",
       "      <td>W</td>\n",
       "      <td>41.0</td>\n",
       "      <td>ENE</td>\n",
       "      <td>...</td>\n",
       "      <td>82.0</td>\n",
       "      <td>33.0</td>\n",
       "      <td>1010.8</td>\n",
       "      <td>1006.0</td>\n",
       "      <td>7.000000</td>\n",
       "      <td>8.000000</td>\n",
       "      <td>17.8</td>\n",
       "      <td>29.7</td>\n",
       "      <td>0</td>\n",
       "      <td>0</td>\n",
       "    </tr>\n",
       "  </tbody>\n",
       "</table>\n",
       "<p>5 rows × 23 columns</p>\n",
       "</div>"
      ],
      "text/plain": [
       "         Date Location  MinTemp  MaxTemp  Rainfall  Evaporation  Sunshine  \\\n",
       "0  2008-12-01   Albury     13.4     22.9       0.6     5.389395  7.632205   \n",
       "1  2008-12-02   Albury      7.4     25.1       0.0     5.389395  7.632205   \n",
       "2  2008-12-03   Albury     12.9     25.7       0.0     5.389395  7.632205   \n",
       "3  2008-12-04   Albury      9.2     28.0       0.0     5.389395  7.632205   \n",
       "4  2008-12-05   Albury     17.5     32.3       1.0     5.389395  7.632205   \n",
       "\n",
       "  WindGustDir  WindGustSpeed WindDir9am  ... Humidity9am  Humidity3pm  \\\n",
       "0           W           44.0          W  ...        71.0         22.0   \n",
       "1         WNW           44.0        NNW  ...        44.0         25.0   \n",
       "2         WSW           46.0          W  ...        38.0         30.0   \n",
       "3          NE           24.0         SE  ...        45.0         16.0   \n",
       "4           W           41.0        ENE  ...        82.0         33.0   \n",
       "\n",
       "   Pressure9am  Pressure3pm  Cloud9am  Cloud3pm  Temp9am  Temp3pm  RainToday  \\\n",
       "0       1007.7       1007.1  8.000000  4.503183     16.9     21.8          0   \n",
       "1       1010.6       1007.8  4.566622  4.503183     17.2     24.3          0   \n",
       "2       1007.6       1008.7  4.566622  2.000000     21.0     23.2          0   \n",
       "3       1017.6       1012.8  4.566622  4.503183     18.1     26.5          0   \n",
       "4       1010.8       1006.0  7.000000  8.000000     17.8     29.7          0   \n",
       "\n",
       "   RainTomorrow  \n",
       "0             0  \n",
       "1             0  \n",
       "2             0  \n",
       "3             0  \n",
       "4             0  \n",
       "\n",
       "[5 rows x 23 columns]"
      ]
     },
     "execution_count": 338,
     "metadata": {},
     "output_type": "execute_result"
    }
   ],
   "source": [
    "rwf_df.head()"
   ]
  },
  {
   "cell_type": "markdown",
   "id": "e309b78c",
   "metadata": {},
   "source": [
    "# Step 2: Exploratory Data Analysis\n"
   ]
  },
  {
   "cell_type": "markdown",
   "id": "edf57a46",
   "metadata": {},
   "source": [
    "2.1: Univariate Analysis\n"
   ]
  },
  {
   "cell_type": "code",
   "execution_count": 339,
   "id": "7921b5e9",
   "metadata": {},
   "outputs": [
    {
     "data": {
      "image/png": "[encoded data removed]",
      "text/plain": [
       "<Figure size 640x480 with 1 Axes>"
      ]
     },
     "metadata": {},
     "output_type": "display_data"
    }
   ],
   "source": [
    "# Creating a barplot for 'RainTomorrow'\n",
    "plt.pie(rwf_df['RainTomorrow'].value_counts().values,\n",
    "\t\tlabels = rwf_df['RainTomorrow'].value_counts().index,\n",
    "\t\tautopct='%1.1f%%')\n",
    "plt.show()\n"
   ]
  },
  {
   "cell_type": "code",
   "execution_count": 340,
   "id": "6bd6b392",
   "metadata": {},
   "outputs": [
    {
     "data": {
      "image/png": "[encoded data removed]",
      "text/plain": [
       "<Figure size 1000x500 with 1 Axes>"
      ]
     },
     "metadata": {},
     "output_type": "display_data"
    }
   ],
   "source": [
    "# Creating a distribution plot for 'MinTemp'\n",
    "MinTemp = rwf_df['MinTemp'].value_counts()\n",
    "\n",
    "plt.figure(figsize=(10, 5))\n",
    "plt.style.use('fivethirtyeight')\n",
    "sns.distplot(rwf_df['MinTemp'], bins=20)\n",
    "plt.title('MinTemp', fontdict={\n",
    "          'fontname': 'Monospace', 'fontsize': 20, 'fontweight': 'bold'})\n",
    "plt.xlabel('MinTemp', fontdict={'fontname': 'Monospace', 'fontsize': 15})\n",
    "\n",
    "plt.tick_params(labelsize=10)\n",
    "plt.show()"
   ]
  },
  {
   "cell_type": "code",
   "execution_count": 341,
   "id": "7957736a",
   "metadata": {},
   "outputs": [
    {
     "data": {
      "image/png": "[encoded data removed]",
      "text/plain": [
       "<Figure size 1000x500 with 1 Axes>"
      ]
     },
     "metadata": {},
     "output_type": "display_data"
    }
   ],
   "source": [
    "# Creating a distribution plot for 'MaxTemp'\n",
    "MaxTemp = rwf_df['MaxTemp'].value_counts()\n",
    "\n",
    "plt.figure(figsize=(10, 5))\n",
    "plt.style.use('fivethirtyeight')\n",
    "sns.distplot(rwf_df['MaxTemp'], bins=20)\n",
    "plt.title('MaxTemp', fontdict={\n",
    "          'fontname': 'Monospace', 'fontsize': 20, 'fontweight': 'bold'})\n",
    "plt.xlabel('MaxTemp', fontdict={'fontname': 'Monospace', 'fontsize': 15})\n",
    "\n",
    "plt.tick_params(labelsize=10)\n",
    "plt.show()"
   ]
  },
  {
   "cell_type": "markdown",
   "id": "fcdb0da7",
   "metadata": {},
   "source": [
    "2.2 Bivariate Analysis"
   ]
  },
  {
   "cell_type": "code",
   "execution_count": 342,
   "id": "9e5ef651",
   "metadata": {},
   "outputs": [
    {
     "data": {
      "image/png": "[encoded data removed]",
      "text/plain": [
       "<Figure size 2000x700 with 1 Axes>"
      ]
     },
     "metadata": {},
     "output_type": "display_data"
    }
   ],
   "source": [
    "# Creating a countplot of maxtemp across rainfall\n",
    "plt.style.use('default')\n",
    "plt.figure(figsize=(20, 7))\n",
    "sns.countplot(rwf_df['MaxTemp'], hue=rwf_df['RainTomorrow'])\n",
    "plt.title('MaxTemp', fontdict={\n",
    "          'fontname': 'Monospace', 'fontsize': 20, 'fontweight': 'bold'})\n",
    "plt.xlabel('MaxTemp', fontdict={'fontname': 'Monospace', 'fontsize': 15})\n",
    "\n",
    "plt.tick_params(labelsize=12)\n",
    "plt.legend(loc=1, prop={'size': 15})\n",
    "plt.show()\n"
   ]
  },
  {
   "cell_type": "code",
   "execution_count": 343,
   "id": "209e63c7",
   "metadata": {},
   "outputs": [
    {
     "data": {
      "image/png": "[encoded data removed]",
      "text/plain": [
       "<Figure size 1700x100 with 1 Axes>"
      ]
     },
     "metadata": {},
     "output_type": "display_data"
    },
    {
     "data": {
      "image/png": "[encoded data removed]",
      "text/plain": [
       "<Figure size 1700x100 with 1 Axes>"
      ]
     },
     "metadata": {},
     "output_type": "display_data"
    },
    {
     "data": {
      "image/png": "[encoded data removed]",
      "text/plain": [
       "<Figure size 1700x100 with 1 Axes>"
      ]
     },
     "metadata": {},
     "output_type": "display_data"
    },
    {
     "data": {
      "image/png": "[encoded data removed]",
      "text/plain": [
       "<Figure size 1700x100 with 1 Axes>"
      ]
     },
     "metadata": {},
     "output_type": "display_data"
    },
    {
     "data": {
      "image/png": "[encoded data removed]",
      "text/plain": [
       "<Figure size 1700x100 with 1 Axes>"
      ]
     },
     "metadata": {},
     "output_type": "display_data"
    },
    {
     "data": {
      "image/png": "[encoded data removed]",
      "text/plain": [
       "<Figure size 1700x100 with 1 Axes>"
      ]
     },
     "metadata": {},
     "output_type": "display_data"
    },
    {
     "data": {
      "image/png": "[encoded data removed]",
      "text/plain": [
       "<Figure size 1700x100 with 1 Axes>"
      ]
     },
     "metadata": {},
     "output_type": "display_data"
    },
    {
     "data": {
      "image/png": "[encoded data removed]",
      "text/plain": [
       "<Figure size 1700x100 with 1 Axes>"
      ]
     },
     "metadata": {},
     "output_type": "display_data"
    },
    {
     "data": {
      "image/png": "[encoded data removed]",
      "text/plain": [
       "<Figure size 1700x100 with 1 Axes>"
      ]
     },
     "metadata": {},
     "output_type": "display_data"
    },
    {
     "data": {
      "image/png": "[encoded data removed]",
      "text/plain": [
       "<Figure size 1700x100 with 1 Axes>"
      ]
     },
     "metadata": {},
     "output_type": "display_data"
    },
    {
     "data": {
      "image/png": "[encoded data removed]",
      "text/plain": [
       "<Figure size 1700x100 with 1 Axes>"
      ]
     },
     "metadata": {},
     "output_type": "display_data"
    },
    {
     "data": {
      "image/png": "[encoded data removed]",
      "text/plain": [
       "<Figure size 1700x100 with 1 Axes>"
      ]
     },
     "metadata": {},
     "output_type": "display_data"
    },
    {
     "data": {
      "image/png": "[encoded data removed]",
      "text/plain": [
       "<Figure size 1700x100 with 1 Axes>"
      ]
     },
     "metadata": {},
     "output_type": "display_data"
    },
    {
     "data": {
      "image/png": "[encoded data removed]",
      "text/plain": [
       "<Figure size 1700x100 with 1 Axes>"
      ]
     },
     "metadata": {},
     "output_type": "display_data"
    },
    {
     "data": {
      "image/png": "[encoded data removed]",
      "text/plain": [
       "<Figure size 1700x100 with 1 Axes>"
      ]
     },
     "metadata": {},
     "output_type": "display_data"
    },
    {
     "data": {
      "image/png": "[encoded data removed]",
      "text/plain": [
       "<Figure size 1700x100 with 1 Axes>"
      ]
     },
     "metadata": {},
     "output_type": "display_data"
    },
    {
     "data": {
      "image/png": "[encoded data removed]",
      "text/plain": [
       "<Figure size 1700x100 with 1 Axes>"
      ]
     },
     "metadata": {},
     "output_type": "display_data"
    },
    {
     "data": {
      "image/png": "[encoded data removed]",
      "text/plain": [
       "<Figure size 1700x100 with 1 Axes>"
      ]
     },
     "metadata": {},
     "output_type": "display_data"
    }
   ],
   "source": [
    "rwf_df_1=rwf_df.select_dtypes(exclude=['object'])\n",
    "for column in rwf_df_1:\n",
    "        plt.figure(figsize=(17,1))\n",
    "        sns.boxplot(data=rwf_df, x=column)\n"
   ]
  },
  {
   "cell_type": "code",
   "execution_count": 344,
   "id": "db21b65d",
   "metadata": {},
   "outputs": [
    {
     "name": "stdout",
     "output_type": "stream",
     "text": [
      "6.250000000000002\n",
      "41.05\n"
     ]
    }
   ],
   "source": [
    "Q1=rwf_df['MaxTemp'].quantile(0.25)\n",
    "Q2=rwf_df['MaxTemp'].quantile(0.5)\n",
    "Q3=rwf_df['MaxTemp'].quantile(0.75)\n",
    "iqr=Q3-Q1\n",
    "lowlim=Q1-1.5*iqr\n",
    "upplim=Q3+1.5*iqr\n",
    "print(lowlim)\n",
    "print(upplim)"
   ]
  },
  {
   "cell_type": "code",
   "execution_count": 345,
   "id": "eea1b149",
   "metadata": {},
   "outputs": [],
   "source": [
    "rwf_df['MaxTemp'] = np.where(rwf_df['MaxTemp']> upplim,upplim,\n",
    "                        np.where(rwf_df['MaxTemp']<lowlim,lowlim, rwf_df['MaxTemp']))"
   ]
  },
  {
   "cell_type": "code",
   "execution_count": null,
   "id": "e4895106",
   "metadata": {},
   "outputs": [],
   "source": []
  },
  {
   "cell_type": "code",
   "execution_count": 346,
   "id": "fd99e757",
   "metadata": {},
   "outputs": [
    {
     "name": "stdout",
     "output_type": "stream",
     "text": [
      "-2.0999999999999996\n",
      "3.4999999999999996\n"
     ]
    }
   ],
   "source": [
    "Q1=rwf_df['Rainfall'].quantile(0.25)\n",
    "Q2=rwf_df['Rainfall'].quantile(0.5)\n",
    "Q3=rwf_df['Rainfall'].quantile(0.75)\n",
    "iqr=Q3-Q1\n",
    "lowlim=Q1-1.5*iqr\n",
    "upplim=Q3+1.5*iqr\n",
    "print(lowlim)\n",
    "print(upplim)"
   ]
  },
  {
   "cell_type": "code",
   "execution_count": 347,
   "id": "791e7516",
   "metadata": {},
   "outputs": [],
   "source": [
    "rwf_df['Rainfall'] = np.where(rwf_df['Rainfall']> upplim,upplim,\n",
    "                        np.where(rwf_df['Rainfall']<lowlim,lowlim, rwf_df['Rainfall']))"
   ]
  },
  {
   "cell_type": "code",
   "execution_count": 348,
   "id": "d891569f",
   "metadata": {},
   "outputs": [
    {
     "name": "stdout",
     "output_type": "stream",
     "text": [
      "1.9159067779360868\n",
      "7.473488703439855\n"
     ]
    }
   ],
   "source": [
    "Q1=rwf_df['Evaporation'].quantile(0.25)\n",
    "Q2=rwf_df['Evaporation'].quantile(0.5)\n",
    "Q3=rwf_df['Evaporation'].quantile(0.75)\n",
    "iqr=Q3-Q1\n",
    "lowlim=Q1-1.5*iqr\n",
    "upplim=Q3+1.5*iqr\n",
    "print(lowlim)\n",
    "print(upplim)"
   ]
  },
  {
   "cell_type": "code",
   "execution_count": 349,
   "id": "3063ee15",
   "metadata": {},
   "outputs": [],
   "source": [
    "rwf_df['Evaporation'] = np.where(rwf_df['Evaporation']> upplim,upplim,\n",
    "                        np.where(rwf_df['Evaporation']<lowlim,lowlim, rwf_df['Evaporation']))"
   ]
  },
  {
   "cell_type": "code",
   "execution_count": 350,
   "id": "e6d8b1cc",
   "metadata": {},
   "outputs": [
    {
     "name": "stdout",
     "output_type": "stream",
     "text": [
      "5.73051229970663\n",
      "10.801692620176022\n"
     ]
    }
   ],
   "source": [
    "Q1=rwf_df['Sunshine'].quantile(0.25)\n",
    "Q2=rwf_df['Sunshine'].quantile(0.5)\n",
    "Q3=rwf_df['Sunshine'].quantile(0.75)\n",
    "iqr=Q3-Q1\n",
    "lowlim=Q1-1.5*iqr\n",
    "upplim=Q3+1.5*iqr\n",
    "print(lowlim)\n",
    "print(upplim)"
   ]
  },
  {
   "cell_type": "code",
   "execution_count": 351,
   "id": "d432e095",
   "metadata": {},
   "outputs": [],
   "source": [
    "rwf_df['Sunshine'] = np.where(rwf_df['Sunshine']> upplim,upplim,\n",
    "                        np.where(rwf_df['Sunshine']<lowlim,lowlim, rwf_df['Sunshine']))"
   ]
  },
  {
   "cell_type": "code",
   "execution_count": 352,
   "id": "f4bde4aa",
   "metadata": {},
   "outputs": [
    {
     "name": "stdout",
     "output_type": "stream",
     "text": [
      "5.5\n",
      "73.5\n"
     ]
    }
   ],
   "source": [
    "Q1=rwf_df['WindGustSpeed'].quantile(0.25)\n",
    "Q2=rwf_df['WindGustSpeed'].quantile(0.5)\n",
    "Q3=rwf_df['WindGustSpeed'].quantile(0.75)\n",
    "iqr=Q3-Q1\n",
    "lowlim=Q1-1.5*iqr\n",
    "upplim=Q3+1.5*iqr\n",
    "print(lowlim)\n",
    "print(upplim)"
   ]
  },
  {
   "cell_type": "code",
   "execution_count": 353,
   "id": "e6bed2bf",
   "metadata": {},
   "outputs": [],
   "source": [
    "rwf_df['WindGustSpeed'] = np.where(rwf_df['WindGustSpeed']> upplim,upplim,\n",
    "                        np.where(rwf_df['WindGustSpeed']<lowlim,lowlim, rwf_df['WindGustSpeed']))"
   ]
  },
  {
   "cell_type": "code",
   "execution_count": 354,
   "id": "b08277e6",
   "metadata": {},
   "outputs": [
    {
     "name": "stdout",
     "output_type": "stream",
     "text": [
      "-15.0\n",
      "41.0\n"
     ]
    }
   ],
   "source": [
    "Q1=rwf_df['WindSpeed9am'].quantile(0.25)\n",
    "Q2=rwf_df['WindSpeed9am'].quantile(0.5)\n",
    "Q3=rwf_df['WindSpeed9am'].quantile(0.75)\n",
    "iqr=Q3-Q1\n",
    "lowlim=Q1-1.5*iqr\n",
    "upplim=Q3+1.5*iqr\n",
    "print(lowlim)\n",
    "print(upplim)"
   ]
  },
  {
   "cell_type": "code",
   "execution_count": 355,
   "id": "416835d9",
   "metadata": {},
   "outputs": [],
   "source": [
    "rwf_df['WindSpeed9am'] = np.where(rwf_df['WindSpeed9am']> upplim,upplim,\n",
    "                        np.where(rwf_df['WindSpeed9am']<lowlim,lowlim, rwf_df['WindSpeed9am']))"
   ]
  },
  {
   "cell_type": "code",
   "execution_count": 356,
   "id": "8e10f13e",
   "metadata": {},
   "outputs": [
    {
     "name": "stdout",
     "output_type": "stream",
     "text": [
      "-8.5\n",
      "43.5\n"
     ]
    }
   ],
   "source": [
    "Q1=rwf_df['WindSpeed3pm'].quantile(0.25)\n",
    "Q2=rwf_df['WindSpeed3pm'].quantile(0.5)\n",
    "Q3=rwf_df['WindSpeed3pm'].quantile(0.75)\n",
    "iqr=Q3-Q1\n",
    "lowlim=Q1-1.5*iqr\n",
    "upplim=Q3+1.5*iqr\n",
    "print(lowlim)\n",
    "print(upplim)"
   ]
  },
  {
   "cell_type": "code",
   "execution_count": 357,
   "id": "7c60201f",
   "metadata": {},
   "outputs": [],
   "source": [
    "rwf_df['WindSpeed3pm'] = np.where(rwf_df['WindSpeed3pm']> upplim,upplim,\n",
    "                        np.where(rwf_df['WindSpeed3pm']<lowlim,lowlim, rwf_df['WindSpeed3pm']))"
   ]
  },
  {
   "cell_type": "code",
   "execution_count": 358,
   "id": "1f98a548",
   "metadata": {},
   "outputs": [
    {
     "name": "stdout",
     "output_type": "stream",
     "text": [
      "20.0\n",
      "116.0\n"
     ]
    }
   ],
   "source": [
    "Q1=rwf_df['Humidity9am'].quantile(0.25)\n",
    "Q2=rwf_df['Humidity9am'].quantile(0.5)\n",
    "Q3=rwf_df['Humidity9am'].quantile(0.75)\n",
    "iqr=Q3-Q1\n",
    "lowlim=Q1-1.5*iqr\n",
    "upplim=Q3+1.5*iqr\n",
    "print(lowlim)\n",
    "print(upplim)"
   ]
  },
  {
   "cell_type": "code",
   "execution_count": 359,
   "id": "be7e0946",
   "metadata": {},
   "outputs": [],
   "source": [
    "rwf_df['Humidity9am'] = np.where(rwf_df['Humidity9am']> upplim,upplim,\n",
    "                        np.where(rwf_df['Humidity9am']<lowlim,lowlim, rwf_df['Humidity9am']))"
   ]
  },
  {
   "cell_type": "code",
   "execution_count": 360,
   "id": "17e88aa0",
   "metadata": {},
   "outputs": [
    {
     "name": "stdout",
     "output_type": "stream",
     "text": [
      "1003.0500000000001\n",
      "1032.25\n"
     ]
    }
   ],
   "source": [
    "Q1=rwf_df['Pressure9am'].quantile(0.25)\n",
    "Q2=rwf_df['Pressure9am'].quantile(0.5)\n",
    "Q3=rwf_df['Pressure9am'].quantile(0.75)\n",
    "iqr=Q3-Q1\n",
    "lowlim=Q1-1.5*iqr\n",
    "upplim=Q3+1.5*iqr\n",
    "print(lowlim)\n",
    "print(upplim)"
   ]
  },
  {
   "cell_type": "code",
   "execution_count": 361,
   "id": "11f394ca",
   "metadata": {},
   "outputs": [],
   "source": [
    "rwf_df['Pressure9am'] = np.where(rwf_df['Pressure9am']> upplim,upplim,\n",
    "                        np.where(rwf_df['Pressure9am']<lowlim,lowlim, rwf_df['Pressure9am']))"
   ]
  },
  {
   "cell_type": "code",
   "execution_count": 362,
   "id": "233eea1b",
   "metadata": {},
   "outputs": [
    {
     "name": "stdout",
     "output_type": "stream",
     "text": [
      "1000.3\n",
      "1029.8999999999999\n"
     ]
    }
   ],
   "source": [
    "Q1=rwf_df['Pressure3pm'].quantile(0.25)\n",
    "Q2=rwf_df['Pressure3pm'].quantile(0.5)\n",
    "Q3=rwf_df['Pressure3pm'].quantile(0.75)\n",
    "iqr=Q3-Q1\n",
    "lowlim=Q1-1.5*iqr\n",
    "upplim=Q3+1.5*iqr\n",
    "print(lowlim)\n",
    "print(upplim)"
   ]
  },
  {
   "cell_type": "code",
   "execution_count": 363,
   "id": "88a6639b",
   "metadata": {},
   "outputs": [],
   "source": [
    "rwf_df['Pressure3pm'] = np.where(rwf_df['Pressure3pm']> upplim,upplim,\n",
    "                        np.where(rwf_df['Pressure3pm']<lowlim,lowlim, rwf_df['Pressure3pm']))"
   ]
  },
  {
   "cell_type": "code",
   "execution_count": 364,
   "id": "d761aa92",
   "metadata": {},
   "outputs": [
    {
     "name": "stdout",
     "output_type": "stream",
     "text": [
      "1.650000000000004\n",
      "34.05\n"
     ]
    }
   ],
   "source": [
    "Q1=rwf_df['Temp9am'].quantile(0.25)\n",
    "Q2=rwf_df['Temp9am'].quantile(0.5)\n",
    "Q3=rwf_df['Temp9am'].quantile(0.75)\n",
    "iqr=Q3-Q1\n",
    "lowlim=Q1-1.5*iqr\n",
    "upplim=Q3+1.5*iqr\n",
    "print(lowlim)\n",
    "print(upplim)"
   ]
  },
  {
   "cell_type": "code",
   "execution_count": 365,
   "id": "a7d3ad1b",
   "metadata": {},
   "outputs": [],
   "source": [
    "rwf_df['Temp9am'] = np.where(rwf_df['Temp9am']> upplim,upplim,\n",
    "                        np.where(rwf_df['Temp9am']<lowlim,lowlim, rwf_df['Temp9am']))"
   ]
  },
  {
   "cell_type": "code",
   "execution_count": 366,
   "id": "bb2d20e3",
   "metadata": {},
   "outputs": [
    {
     "name": "stdout",
     "output_type": "stream",
     "text": [
      "5.8000000000000025\n",
      "38.6\n"
     ]
    }
   ],
   "source": [
    "Q1=rwf_df['Temp3pm'].quantile(0.25)\n",
    "Q2=rwf_df['Temp3pm'].quantile(0.5)\n",
    "Q3=rwf_df['Temp3pm'].quantile(0.75)\n",
    "iqr=Q3-Q1\n",
    "lowlim=Q1-1.5*iqr\n",
    "upplim=Q3+1.5*iqr\n",
    "print(lowlim)\n",
    "print(upplim)"
   ]
  },
  {
   "cell_type": "code",
   "execution_count": 367,
   "id": "153ed22b",
   "metadata": {},
   "outputs": [],
   "source": [
    "rwf_df['Temp3pm'] = np.where(rwf_df['Temp3pm']> upplim,upplim,\n",
    "                        np.where(rwf_df['Temp3pm']<lowlim,lowlim, rwf_df['Temp3pm']))"
   ]
  },
  {
   "cell_type": "code",
   "execution_count": 368,
   "id": "34ee7777",
   "metadata": {},
   "outputs": [
    {
     "data": {
      "image/png": "[encoded data removed]",
      "text/plain": [
       "<Figure size 1700x100 with 1 Axes>"
      ]
     },
     "metadata": {},
     "output_type": "display_data"
    },
    {
     "data": {
      "image/png": "[encoded data removed]",
      "text/plain": [
       "<Figure size 1700x100 with 1 Axes>"
      ]
     },
     "metadata": {},
     "output_type": "display_data"
    },
    {
     "data": {
      "image/png": "[encoded data removed]",
      "text/plain": [
       "<Figure size 1700x100 with 1 Axes>"
      ]
     },
     "metadata": {},
     "output_type": "display_data"
    },
    {
     "data": {
      "image/png": "[encoded data removed]",
      "text/plain": [
       "<Figure size 1700x100 with 1 Axes>"
      ]
     },
     "metadata": {},
     "output_type": "display_data"
    },
    {
     "data": {
      "image/png": "[encoded data removed]",
      "text/plain": [
       "<Figure size 1700x100 with 1 Axes>"
      ]
     },
     "metadata": {},
     "output_type": "display_data"
    },
    {
     "data": {
      "image/png": "[encoded data removed]",
      "text/plain": [
       "<Figure size 1700x100 with 1 Axes>"
      ]
     },
     "metadata": {},
     "output_type": "display_data"
    },
    {
     "data": {
      "image/png": "[encoded data removed]",
      "text/plain": [
       "<Figure size 1700x100 with 1 Axes>"
      ]
     },
     "metadata": {},
     "output_type": "display_data"
    },
    {
     "data": {
      "image/png": "[encoded data removed]",
      "text/plain": [
       "<Figure size 1700x100 with 1 Axes>"
      ]
     },
     "metadata": {},
     "output_type": "display_data"
    },
    {
     "data": {
      "image/png": "[encoded data removed]",
      "text/plain": [
       "<Figure size 1700x100 with 1 Axes>"
      ]
     },
     "metadata": {},
     "output_type": "display_data"
    },
    {
     "data": {
      "image/png": "[encoded data removed]",
      "text/plain": [
       "<Figure size 1700x100 with 1 Axes>"
      ]
     },
     "metadata": {},
     "output_type": "display_data"
    },
    {
     "data": {
      "image/png": "[encoded data removed]",
      "text/plain": [
       "<Figure size 1700x100 with 1 Axes>"
      ]
     },
     "metadata": {},
     "output_type": "display_data"
    },
    {
     "data": {
      "image/png": "[encoded data removed]",
      "text/plain": [
       "<Figure size 1700x100 with 1 Axes>"
      ]
     },
     "metadata": {},
     "output_type": "display_data"
    },
    {
     "data": {
      "image/png": "[encoded data removed]",
      "text/plain": [
       "<Figure size 1700x100 with 1 Axes>"
      ]
     },
     "metadata": {},
     "output_type": "display_data"
    },
    {
     "data": {
      "image/png": "[encoded data removed]",
      "text/plain": [
       "<Figure size 1700x100 with 1 Axes>"
      ]
     },
     "metadata": {},
     "output_type": "display_data"
    },
    {
     "data": {
      "image/png": "[encoded data removed]",
      "text/plain": [
       "<Figure size 1700x100 with 1 Axes>"
      ]
     },
     "metadata": {},
     "output_type": "display_data"
    },
    {
     "data": {
      "image/png": "[encoded data removed]",
      "text/plain": [
       "<Figure size 1700x100 with 1 Axes>"
      ]
     },
     "metadata": {},
     "output_type": "display_data"
    },
    {
     "data": {
      "image/png": "[encoded data removed]",
      "text/plain": [
       "<Figure size 1700x100 with 1 Axes>"
      ]
     },
     "metadata": {},
     "output_type": "display_data"
    },
    {
     "data": {
      "image/png": "[encoded data removed]",
      "text/plain": [
       "<Figure size 1700x100 with 1 Axes>"
      ]
     },
     "metadata": {},
     "output_type": "display_data"
    }
   ],
   "source": [
    "rwf_df_1=rwf_df_1.select_dtypes(exclude=['object'])\n",
    "for column in rwf_df_1:\n",
    "        plt.figure(figsize=(17,1))\n",
    "        sns.boxplot(data=rwf_df, x=column)\n"
   ]
  },
  {
   "cell_type": "code",
   "execution_count": 369,
   "id": "7d7fd8dd",
   "metadata": {},
   "outputs": [
    {
     "data": {
      "image/png": "[encoded data removed]",
      "text/plain": [
       "<Figure size 700x500 with 2 Axes>"
      ]
     },
     "metadata": {},
     "output_type": "display_data"
    }
   ],
   "source": [
    "corr = rwf_df.corr()\n",
    "mask = np.zeros_like(corr)\n",
    "mask[np.triu_indices_from(mask)] = True\n",
    "with sns.axes_style(\"white\"):\n",
    "    f, ax = plt.subplots(figsize=(7, 5))\n",
    "    ax = sns.heatmap(corr, mask=mask, vmax=.3, square=True,\n",
    "                     annot=True, cmap='RdYlGn')\n",
    "plt.savefig('multi2.png')\n",
    "plt.show()"
   ]
  },
  {
   "cell_type": "code",
   "execution_count": 370,
   "id": "637fbd6e",
   "metadata": {},
   "outputs": [
    {
     "data": {
      "text/html": [
       "<div>\n",
       "<style scoped>\n",
       "    .dataframe tbody tr th:only-of-type {\n",
       "        vertical-align: middle;\n",
       "    }\n",
       "\n",
       "    .dataframe tbody tr th {\n",
       "        vertical-align: top;\n",
       "    }\n",
       "\n",
       "    .dataframe thead th {\n",
       "        text-align: right;\n",
       "    }\n",
       "</style>\n",
       "<table border=\"1\" class=\"dataframe\">\n",
       "  <thead>\n",
       "    <tr style=\"text-align: right;\">\n",
       "      <th></th>\n",
       "      <th>Date</th>\n",
       "      <th>Location</th>\n",
       "      <th>MinTemp</th>\n",
       "      <th>MaxTemp</th>\n",
       "      <th>Rainfall</th>\n",
       "      <th>Evaporation</th>\n",
       "      <th>Sunshine</th>\n",
       "      <th>WindGustDir</th>\n",
       "      <th>WindGustSpeed</th>\n",
       "      <th>WindDir9am</th>\n",
       "      <th>...</th>\n",
       "      <th>Humidity9am</th>\n",
       "      <th>Humidity3pm</th>\n",
       "      <th>Pressure9am</th>\n",
       "      <th>Pressure3pm</th>\n",
       "      <th>Cloud9am</th>\n",
       "      <th>Cloud3pm</th>\n",
       "      <th>Temp9am</th>\n",
       "      <th>Temp3pm</th>\n",
       "      <th>RainToday</th>\n",
       "      <th>RainTomorrow</th>\n",
       "    </tr>\n",
       "  </thead>\n",
       "  <tbody>\n",
       "    <tr>\n",
       "      <th>0</th>\n",
       "      <td>2008-12-01</td>\n",
       "      <td>Albury</td>\n",
       "      <td>13.4</td>\n",
       "      <td>22.9</td>\n",
       "      <td>0.6</td>\n",
       "      <td>5.389395</td>\n",
       "      <td>7.632205</td>\n",
       "      <td>W</td>\n",
       "      <td>44.0</td>\n",
       "      <td>W</td>\n",
       "      <td>...</td>\n",
       "      <td>71.0</td>\n",
       "      <td>22.0</td>\n",
       "      <td>1007.7</td>\n",
       "      <td>1007.1</td>\n",
       "      <td>8.000000</td>\n",
       "      <td>4.503183</td>\n",
       "      <td>16.9</td>\n",
       "      <td>21.8</td>\n",
       "      <td>0</td>\n",
       "      <td>0</td>\n",
       "    </tr>\n",
       "    <tr>\n",
       "      <th>1</th>\n",
       "      <td>2008-12-02</td>\n",
       "      <td>Albury</td>\n",
       "      <td>7.4</td>\n",
       "      <td>25.1</td>\n",
       "      <td>0.0</td>\n",
       "      <td>5.389395</td>\n",
       "      <td>7.632205</td>\n",
       "      <td>WNW</td>\n",
       "      <td>44.0</td>\n",
       "      <td>NNW</td>\n",
       "      <td>...</td>\n",
       "      <td>44.0</td>\n",
       "      <td>25.0</td>\n",
       "      <td>1010.6</td>\n",
       "      <td>1007.8</td>\n",
       "      <td>4.566622</td>\n",
       "      <td>4.503183</td>\n",
       "      <td>17.2</td>\n",
       "      <td>24.3</td>\n",
       "      <td>0</td>\n",
       "      <td>0</td>\n",
       "    </tr>\n",
       "    <tr>\n",
       "      <th>2</th>\n",
       "      <td>2008-12-03</td>\n",
       "      <td>Albury</td>\n",
       "      <td>12.9</td>\n",
       "      <td>25.7</td>\n",
       "      <td>0.0</td>\n",
       "      <td>5.389395</td>\n",
       "      <td>7.632205</td>\n",
       "      <td>WSW</td>\n",
       "      <td>46.0</td>\n",
       "      <td>W</td>\n",
       "      <td>...</td>\n",
       "      <td>38.0</td>\n",
       "      <td>30.0</td>\n",
       "      <td>1007.6</td>\n",
       "      <td>1008.7</td>\n",
       "      <td>4.566622</td>\n",
       "      <td>2.000000</td>\n",
       "      <td>21.0</td>\n",
       "      <td>23.2</td>\n",
       "      <td>0</td>\n",
       "      <td>0</td>\n",
       "    </tr>\n",
       "    <tr>\n",
       "      <th>3</th>\n",
       "      <td>2008-12-04</td>\n",
       "      <td>Albury</td>\n",
       "      <td>9.2</td>\n",
       "      <td>28.0</td>\n",
       "      <td>0.0</td>\n",
       "      <td>5.389395</td>\n",
       "      <td>7.632205</td>\n",
       "      <td>NE</td>\n",
       "      <td>24.0</td>\n",
       "      <td>SE</td>\n",
       "      <td>...</td>\n",
       "      <td>45.0</td>\n",
       "      <td>16.0</td>\n",
       "      <td>1017.6</td>\n",
       "      <td>1012.8</td>\n",
       "      <td>4.566622</td>\n",
       "      <td>4.503183</td>\n",
       "      <td>18.1</td>\n",
       "      <td>26.5</td>\n",
       "      <td>0</td>\n",
       "      <td>0</td>\n",
       "    </tr>\n",
       "    <tr>\n",
       "      <th>4</th>\n",
       "      <td>2008-12-05</td>\n",
       "      <td>Albury</td>\n",
       "      <td>17.5</td>\n",
       "      <td>32.3</td>\n",
       "      <td>1.0</td>\n",
       "      <td>5.389395</td>\n",
       "      <td>7.632205</td>\n",
       "      <td>W</td>\n",
       "      <td>41.0</td>\n",
       "      <td>ENE</td>\n",
       "      <td>...</td>\n",
       "      <td>82.0</td>\n",
       "      <td>33.0</td>\n",
       "      <td>1010.8</td>\n",
       "      <td>1006.0</td>\n",
       "      <td>7.000000</td>\n",
       "      <td>8.000000</td>\n",
       "      <td>17.8</td>\n",
       "      <td>29.7</td>\n",
       "      <td>0</td>\n",
       "      <td>0</td>\n",
       "    </tr>\n",
       "  </tbody>\n",
       "</table>\n",
       "<p>5 rows × 23 columns</p>\n",
       "</div>"
      ],
      "text/plain": [
       "         Date Location  MinTemp  MaxTemp  Rainfall  Evaporation  Sunshine  \\\n",
       "0  2008-12-01   Albury     13.4     22.9       0.6     5.389395  7.632205   \n",
       "1  2008-12-02   Albury      7.4     25.1       0.0     5.389395  7.632205   \n",
       "2  2008-12-03   Albury     12.9     25.7       0.0     5.389395  7.632205   \n",
       "3  2008-12-04   Albury      9.2     28.0       0.0     5.389395  7.632205   \n",
       "4  2008-12-05   Albury     17.5     32.3       1.0     5.389395  7.632205   \n",
       "\n",
       "  WindGustDir  WindGustSpeed WindDir9am  ... Humidity9am  Humidity3pm  \\\n",
       "0           W           44.0          W  ...        71.0         22.0   \n",
       "1         WNW           44.0        NNW  ...        44.0         25.0   \n",
       "2         WSW           46.0          W  ...        38.0         30.0   \n",
       "3          NE           24.0         SE  ...        45.0         16.0   \n",
       "4           W           41.0        ENE  ...        82.0         33.0   \n",
       "\n",
       "   Pressure9am  Pressure3pm  Cloud9am  Cloud3pm  Temp9am  Temp3pm  RainToday  \\\n",
       "0       1007.7       1007.1  8.000000  4.503183     16.9     21.8          0   \n",
       "1       1010.6       1007.8  4.566622  4.503183     17.2     24.3          0   \n",
       "2       1007.6       1008.7  4.566622  2.000000     21.0     23.2          0   \n",
       "3       1017.6       1012.8  4.566622  4.503183     18.1     26.5          0   \n",
       "4       1010.8       1006.0  7.000000  8.000000     17.8     29.7          0   \n",
       "\n",
       "   RainTomorrow  \n",
       "0             0  \n",
       "1             0  \n",
       "2             0  \n",
       "3             0  \n",
       "4             0  \n",
       "\n",
       "[5 rows x 23 columns]"
      ]
     },
     "execution_count": 370,
     "metadata": {},
     "output_type": "execute_result"
    }
   ],
   "source": [
    "rwf_df.head()"
   ]
  },
  {
   "cell_type": "markdown",
   "id": "40e1693e",
   "metadata": {},
   "source": [
    "# Step 3: Data Preprocessing\n"
   ]
  },
  {
   "cell_type": "markdown",
   "id": "59fc9f88",
   "metadata": {},
   "source": [
    "3.1: Label Encoding"
   ]
  },
  {
   "cell_type": "code",
   "execution_count": 371,
   "id": "b4bf014e",
   "metadata": {},
   "outputs": [],
   "source": [
    "from sklearn.preprocessing import LabelEncoder\n",
    "\n",
    "for col in rwf_df.columns:\n",
    "    if rwf_df[col].dtypes == 'object':\n",
    "        encoder = LabelEncoder()\n",
    "        rwf_df[col] = encoder.fit_transform(rwf_df[col])\n"
   ]
  },
  {
   "cell_type": "markdown",
   "id": "e472c6f2",
   "metadata": {},
   "source": [
    "3.2: Feature Selection"
   ]
  },
  {
   "cell_type": "code",
   "execution_count": 372,
   "id": "154057b4",
   "metadata": {},
   "outputs": [
    {
     "data": {
      "text/html": [
       "<div>\n",
       "<style scoped>\n",
       "    .dataframe tbody tr th:only-of-type {\n",
       "        vertical-align: middle;\n",
       "    }\n",
       "\n",
       "    .dataframe tbody tr th {\n",
       "        vertical-align: top;\n",
       "    }\n",
       "\n",
       "    .dataframe thead th {\n",
       "        text-align: right;\n",
       "    }\n",
       "</style>\n",
       "<table border=\"1\" class=\"dataframe\">\n",
       "  <thead>\n",
       "    <tr style=\"text-align: right;\">\n",
       "      <th></th>\n",
       "      <th>Date</th>\n",
       "      <th>Location</th>\n",
       "      <th>MinTemp</th>\n",
       "      <th>MaxTemp</th>\n",
       "      <th>Rainfall</th>\n",
       "      <th>Evaporation</th>\n",
       "      <th>Sunshine</th>\n",
       "      <th>WindGustDir</th>\n",
       "      <th>WindGustSpeed</th>\n",
       "      <th>WindDir9am</th>\n",
       "      <th>...</th>\n",
       "      <th>Humidity9am</th>\n",
       "      <th>Humidity3pm</th>\n",
       "      <th>Pressure9am</th>\n",
       "      <th>Pressure3pm</th>\n",
       "      <th>Cloud9am</th>\n",
       "      <th>Cloud3pm</th>\n",
       "      <th>Temp9am</th>\n",
       "      <th>Temp3pm</th>\n",
       "      <th>RainToday</th>\n",
       "      <th>RainTomorrow</th>\n",
       "    </tr>\n",
       "  </thead>\n",
       "  <tbody>\n",
       "    <tr>\n",
       "      <th>0</th>\n",
       "      <td>0</td>\n",
       "      <td>1</td>\n",
       "      <td>13.4</td>\n",
       "      <td>22.9</td>\n",
       "      <td>0.6</td>\n",
       "      <td>5.389395</td>\n",
       "      <td>7.632205</td>\n",
       "      <td>13</td>\n",
       "      <td>44.0</td>\n",
       "      <td>13</td>\n",
       "      <td>...</td>\n",
       "      <td>71.0</td>\n",
       "      <td>22.0</td>\n",
       "      <td>1007.7</td>\n",
       "      <td>1007.1</td>\n",
       "      <td>8.000000</td>\n",
       "      <td>4.503183</td>\n",
       "      <td>16.9</td>\n",
       "      <td>21.8</td>\n",
       "      <td>0</td>\n",
       "      <td>0</td>\n",
       "    </tr>\n",
       "    <tr>\n",
       "      <th>1</th>\n",
       "      <td>1</td>\n",
       "      <td>1</td>\n",
       "      <td>7.4</td>\n",
       "      <td>25.1</td>\n",
       "      <td>0.0</td>\n",
       "      <td>5.389395</td>\n",
       "      <td>7.632205</td>\n",
       "      <td>14</td>\n",
       "      <td>44.0</td>\n",
       "      <td>6</td>\n",
       "      <td>...</td>\n",
       "      <td>44.0</td>\n",
       "      <td>25.0</td>\n",
       "      <td>1010.6</td>\n",
       "      <td>1007.8</td>\n",
       "      <td>4.566622</td>\n",
       "      <td>4.503183</td>\n",
       "      <td>17.2</td>\n",
       "      <td>24.3</td>\n",
       "      <td>0</td>\n",
       "      <td>0</td>\n",
       "    </tr>\n",
       "    <tr>\n",
       "      <th>2</th>\n",
       "      <td>2</td>\n",
       "      <td>1</td>\n",
       "      <td>12.9</td>\n",
       "      <td>25.7</td>\n",
       "      <td>0.0</td>\n",
       "      <td>5.389395</td>\n",
       "      <td>7.632205</td>\n",
       "      <td>15</td>\n",
       "      <td>46.0</td>\n",
       "      <td>13</td>\n",
       "      <td>...</td>\n",
       "      <td>38.0</td>\n",
       "      <td>30.0</td>\n",
       "      <td>1007.6</td>\n",
       "      <td>1008.7</td>\n",
       "      <td>4.566622</td>\n",
       "      <td>2.000000</td>\n",
       "      <td>21.0</td>\n",
       "      <td>23.2</td>\n",
       "      <td>0</td>\n",
       "      <td>0</td>\n",
       "    </tr>\n",
       "    <tr>\n",
       "      <th>3</th>\n",
       "      <td>3</td>\n",
       "      <td>1</td>\n",
       "      <td>9.2</td>\n",
       "      <td>28.0</td>\n",
       "      <td>0.0</td>\n",
       "      <td>5.389395</td>\n",
       "      <td>7.632205</td>\n",
       "      <td>4</td>\n",
       "      <td>24.0</td>\n",
       "      <td>9</td>\n",
       "      <td>...</td>\n",
       "      <td>45.0</td>\n",
       "      <td>16.0</td>\n",
       "      <td>1017.6</td>\n",
       "      <td>1012.8</td>\n",
       "      <td>4.566622</td>\n",
       "      <td>4.503183</td>\n",
       "      <td>18.1</td>\n",
       "      <td>26.5</td>\n",
       "      <td>0</td>\n",
       "      <td>0</td>\n",
       "    </tr>\n",
       "    <tr>\n",
       "      <th>4</th>\n",
       "      <td>4</td>\n",
       "      <td>1</td>\n",
       "      <td>17.5</td>\n",
       "      <td>32.3</td>\n",
       "      <td>1.0</td>\n",
       "      <td>5.389395</td>\n",
       "      <td>7.632205</td>\n",
       "      <td>13</td>\n",
       "      <td>41.0</td>\n",
       "      <td>1</td>\n",
       "      <td>...</td>\n",
       "      <td>82.0</td>\n",
       "      <td>33.0</td>\n",
       "      <td>1010.8</td>\n",
       "      <td>1006.0</td>\n",
       "      <td>7.000000</td>\n",
       "      <td>8.000000</td>\n",
       "      <td>17.8</td>\n",
       "      <td>29.7</td>\n",
       "      <td>0</td>\n",
       "      <td>0</td>\n",
       "    </tr>\n",
       "  </tbody>\n",
       "</table>\n",
       "<p>5 rows × 23 columns</p>\n",
       "</div>"
      ],
      "text/plain": [
       "   Date  Location  MinTemp  MaxTemp  Rainfall  Evaporation  Sunshine  \\\n",
       "0     0         1     13.4     22.9       0.6     5.389395  7.632205   \n",
       "1     1         1      7.4     25.1       0.0     5.389395  7.632205   \n",
       "2     2         1     12.9     25.7       0.0     5.389395  7.632205   \n",
       "3     3         1      9.2     28.0       0.0     5.389395  7.632205   \n",
       "4     4         1     17.5     32.3       1.0     5.389395  7.632205   \n",
       "\n",
       "   WindGustDir  WindGustSpeed  WindDir9am  ...  Humidity9am  Humidity3pm  \\\n",
       "0           13           44.0          13  ...         71.0         22.0   \n",
       "1           14           44.0           6  ...         44.0         25.0   \n",
       "2           15           46.0          13  ...         38.0         30.0   \n",
       "3            4           24.0           9  ...         45.0         16.0   \n",
       "4           13           41.0           1  ...         82.0         33.0   \n",
       "\n",
       "   Pressure9am  Pressure3pm  Cloud9am  Cloud3pm  Temp9am  Temp3pm  RainToday  \\\n",
       "0       1007.7       1007.1  8.000000  4.503183     16.9     21.8          0   \n",
       "1       1010.6       1007.8  4.566622  4.503183     17.2     24.3          0   \n",
       "2       1007.6       1008.7  4.566622  2.000000     21.0     23.2          0   \n",
       "3       1017.6       1012.8  4.566622  4.503183     18.1     26.5          0   \n",
       "4       1010.8       1006.0  7.000000  8.000000     17.8     29.7          0   \n",
       "\n",
       "   RainTomorrow  \n",
       "0             0  \n",
       "1             0  \n",
       "2             0  \n",
       "3             0  \n",
       "4             0  \n",
       "\n",
       "[5 rows x 23 columns]"
      ]
     },
     "execution_count": 372,
     "metadata": {},
     "output_type": "execute_result"
    }
   ],
   "source": [
    "rwf_df.head()"
   ]
  },
  {
   "cell_type": "code",
   "execution_count": 377,
   "id": "f84faab9",
   "metadata": {},
   "outputs": [],
   "source": [
    "X = rwf_df.drop('RainTomorrow', axis=1)\n",
    "Y = rwf_df['RainTomorrow']"
   ]
  },
  {
   "cell_type": "code",
   "execution_count": 378,
   "id": "ed505e9f",
   "metadata": {},
   "outputs": [],
   "source": [
    "from sklearn.ensemble import ExtraTreesClassifier\n",
    "selector = ExtraTreesClassifier(random_state=42)\n"
   ]
  },
  {
   "cell_type": "code",
   "execution_count": 379,
   "id": "4a0ee37f",
   "metadata": {},
   "outputs": [
    {
     "data": {
      "text/plain": [
       "ExtraTreesClassifier(random_state=42)"
      ]
     },
     "execution_count": 379,
     "metadata": {},
     "output_type": "execute_result"
    }
   ],
   "source": [
    "selector.fit(X, Y)\n"
   ]
  },
  {
   "cell_type": "code",
   "execution_count": 380,
   "id": "2f04e5eb",
   "metadata": {},
   "outputs": [],
   "source": [
    "feature_imp = selector.feature_importances_\n"
   ]
  },
  {
   "cell_type": "code",
   "execution_count": 381,
   "id": "3f03af96",
   "metadata": {},
   "outputs": [
    {
     "name": "stdout",
     "output_type": "stream",
     "text": [
      "0 4.06\n",
      "1 3.05\n",
      "2 3.95\n",
      "3 3.92\n",
      "4 5.92\n",
      "5 2.79\n",
      "6 5.18\n",
      "7 3.3\n",
      "8 5.17\n",
      "9 3.46\n",
      "10 3.67\n",
      "11 3.64\n",
      "12 3.85\n",
      "13 5.05\n",
      "14 12.46\n",
      "15 3.98\n",
      "16 3.96\n",
      "17 4.29\n",
      "18 6.45\n",
      "19 3.71\n",
      "20 4.11\n",
      "21 4.04\n"
     ]
    }
   ],
   "source": [
    "for index, val in enumerate(feature_imp):\n",
    "    print(index, round((val * 100), 2))"
   ]
  },
  {
   "cell_type": "code",
   "execution_count": 382,
   "id": "f671162d",
   "metadata": {},
   "outputs": [],
   "source": [
    "for col in X.columns:\n",
    "    scaler = StandardScaler()\n",
    "    X[col] = scaler.fit_transform(X[col].values.reshape(-1, 1))"
   ]
  },
  {
   "cell_type": "markdown",
   "id": "4b3a3055",
   "metadata": {},
   "source": [
    " Fixing imbalanced dataset using Oversampling\n"
   ]
  },
  {
   "cell_type": "code",
   "execution_count": 383,
   "id": "d6277edd",
   "metadata": {},
   "outputs": [
    {
     "data": {
      "text/plain": [
       "0    76.37 %\n",
       "1    23.63 %\n",
       "Name: RainTomorrow, dtype: object"
      ]
     },
     "execution_count": 383,
     "metadata": {},
     "output_type": "execute_result"
    }
   ],
   "source": [
    "round(Y.value_counts(normalize=True) * 100, 2).astype('str') + ' %'"
   ]
  },
  {
   "cell_type": "code",
   "execution_count": 384,
   "id": "6fb00b68",
   "metadata": {},
   "outputs": [],
   "source": [
    "from imblearn.over_sampling import RandomOverSampler\n",
    "ros = RandomOverSampler(random_state=42)\n"
   ]
  },
  {
   "cell_type": "code",
   "execution_count": 385,
   "id": "98721e8b",
   "metadata": {},
   "outputs": [
    {
     "data": {
      "text/plain": [
       "RandomOverSampler(random_state=42)"
      ]
     },
     "execution_count": 385,
     "metadata": {},
     "output_type": "execute_result"
    }
   ],
   "source": [
    "ros.fit(X, Y)\n"
   ]
  },
  {
   "cell_type": "code",
   "execution_count": 386,
   "id": "2e851ff2",
   "metadata": {},
   "outputs": [],
   "source": [
    "X_resampled, Y_resampled = ros.fit_resample(X, Y)\n"
   ]
  },
  {
   "cell_type": "code",
   "execution_count": 387,
   "id": "5466c58b",
   "metadata": {},
   "outputs": [
    {
     "data": {
      "text/plain": [
       "0    50.0 %\n",
       "1    50.0 %\n",
       "Name: RainTomorrow, dtype: object"
      ]
     },
     "execution_count": 387,
     "metadata": {},
     "output_type": "execute_result"
    }
   ],
   "source": [
    "round(Y_resampled.value_counts(normalize=True) * 100, 2).astype('str') + ' %'\n"
   ]
  },
  {
   "cell_type": "markdown",
   "id": "0a4c1310",
   "metadata": {},
   "source": [
    " Creating a train test split"
   ]
  },
  {
   "cell_type": "code",
   "execution_count": 388,
   "id": "a5b3462f",
   "metadata": {},
   "outputs": [],
   "source": [
    "X_train, X_test, Y_train, Y_test = train_test_split(\n",
    "    X_resampled, Y_resampled, test_size=0.2, random_state=42)"
   ]
  },
  {
   "cell_type": "markdown",
   "id": "4eff5a50",
   "metadata": {},
   "source": [
    "# Data Modelling"
   ]
  },
  {
   "cell_type": "markdown",
   "id": "fff76a00",
   "metadata": {},
   "source": [
    "4.1: Logistic Regression"
   ]
  },
  {
   "cell_type": "code",
   "execution_count": 389,
   "id": "e09d6cb2",
   "metadata": {},
   "outputs": [],
   "source": [
    "lr = LogisticRegression(random_state=42)\n"
   ]
  },
  {
   "cell_type": "code",
   "execution_count": 390,
   "id": "bca33742",
   "metadata": {},
   "outputs": [
    {
     "data": {
      "text/plain": [
       "LogisticRegression(random_state=42)"
      ]
     },
     "execution_count": 390,
     "metadata": {},
     "output_type": "execute_result"
    }
   ],
   "source": [
    "lr.fit(X_train, Y_train)\n"
   ]
  },
  {
   "cell_type": "code",
   "execution_count": 391,
   "id": "1dc91fcd",
   "metadata": {},
   "outputs": [],
   "source": [
    "y_pred = lr.predict(X_test)\n"
   ]
  },
  {
   "cell_type": "code",
   "execution_count": 392,
   "id": "53c152b4",
   "metadata": {},
   "outputs": [
    {
     "name": "stdout",
     "output_type": "stream",
     "text": [
      "Accuracy: 0.7874902874902875\n"
     ]
    }
   ],
   "source": [
    "from sklearn import metrics\n",
    "\n",
    "print(\"Accuracy:\",metrics.accuracy_score(Y_test, y_pred))\n"
   ]
  },
  {
   "cell_type": "code",
   "execution_count": 393,
   "id": "40574fb2",
   "metadata": {},
   "outputs": [
    {
     "name": "stdout",
     "output_type": "stream",
     "text": [
      "Training Accuracy : 76.99630852924034%\n",
      "Testing Accuracy  : 78.74902874902875%\n"
     ]
    }
   ],
   "source": [
    "print(\"Training Accuracy : {}%\".format(lr.score(X_train, Y_train) * 100))\n",
    "print(\"Testing Accuracy  : {}%\".format(lr.score(X_test, Y_test) * 100))"
   ]
  },
  {
   "cell_type": "markdown",
   "id": "679a9cd7",
   "metadata": {},
   "source": [
    "4.2: KNN Classifier"
   ]
  },
  {
   "cell_type": "code",
   "execution_count": 394,
   "id": "9300f966",
   "metadata": {},
   "outputs": [],
   "source": [
    "from sklearn.neighbors import KNeighborsClassifier\n",
    "knn = KNeighborsClassifier()\n"
   ]
  },
  {
   "cell_type": "code",
   "execution_count": 395,
   "id": "73920835",
   "metadata": {},
   "outputs": [
    {
     "data": {
      "text/plain": [
       "KNeighborsClassifier()"
      ]
     },
     "execution_count": 395,
     "metadata": {},
     "output_type": "execute_result"
    }
   ],
   "source": [
    "knn.fit(X_train, Y_train)\n"
   ]
  },
  {
   "cell_type": "code",
   "execution_count": 396,
   "id": "760ded75",
   "metadata": {},
   "outputs": [],
   "source": [
    "y_pred_1 = knn.predict(X_test)\n"
   ]
  },
  {
   "cell_type": "code",
   "execution_count": 397,
   "id": "13431f76",
   "metadata": {},
   "outputs": [
    {
     "name": "stdout",
     "output_type": "stream",
     "text": [
      "Accuracy: 0.865967365967366\n"
     ]
    }
   ],
   "source": [
    "print(\"Accuracy:\",metrics.accuracy_score(Y_test, y_pred_1))\n"
   ]
  },
  {
   "cell_type": "code",
   "execution_count": 398,
   "id": "9ec2cc09",
   "metadata": {},
   "outputs": [
    {
     "name": "stdout",
     "output_type": "stream",
     "text": [
      "Training Accuracy : 90.21760248688557%\n",
      "Testing Accuracy  : 86.5967365967366%\n"
     ]
    }
   ],
   "source": [
    "print(\"Training Accuracy : {}%\".format(knn.score(X_train, Y_train) * 100))\n",
    "print(\"Testing Accuracy  : {}%\".format(knn.score(X_test, Y_test) * 100))"
   ]
  },
  {
   "cell_type": "markdown",
   "id": "a9d9d5d7",
   "metadata": {},
   "source": [
    "4.3: Support Vector Classifier"
   ]
  },
  {
   "cell_type": "code",
   "execution_count": 399,
   "id": "e96621a0",
   "metadata": {},
   "outputs": [],
   "source": [
    "from sklearn.svm import SVC\n",
    "svc = SVC(random_state=42)"
   ]
  },
  {
   "cell_type": "code",
   "execution_count": 400,
   "id": "7e0923b6",
   "metadata": {},
   "outputs": [
    {
     "data": {
      "text/plain": [
       "SVC(random_state=42)"
      ]
     },
     "execution_count": 400,
     "metadata": {},
     "output_type": "execute_result"
    }
   ],
   "source": [
    "svc.fit(X_train, Y_train)\n"
   ]
  },
  {
   "cell_type": "code",
   "execution_count": 401,
   "id": "3333fa51",
   "metadata": {},
   "outputs": [],
   "source": [
    "Y_pred_2 = svc.predict(X_test)\n"
   ]
  },
  {
   "cell_type": "code",
   "execution_count": 402,
   "id": "7272a4e4",
   "metadata": {},
   "outputs": [
    {
     "name": "stdout",
     "output_type": "stream",
     "text": [
      "Accuracy: 0.8438228438228438\n"
     ]
    }
   ],
   "source": [
    "print(\"Accuracy:\",metrics.accuracy_score(Y_test, Y_pred_2))\n"
   ]
  },
  {
   "cell_type": "code",
   "execution_count": 403,
   "id": "60d99498",
   "metadata": {},
   "outputs": [
    {
     "name": "stdout",
     "output_type": "stream",
     "text": [
      "Training Accuracy : 85.97241111326987%\n",
      "Testing Accuracy  : 84.38228438228438%\n"
     ]
    }
   ],
   "source": [
    "print(\"Training Accuracy : {}%\".format(svc.score(X_train, Y_train) * 100))\n",
    "print(\"Testing Accuracy  : {}%\".format(svc.score(X_test, Y_test) * 100))"
   ]
  },
  {
   "cell_type": "markdown",
   "id": "ace25d03",
   "metadata": {},
   "source": [
    "4.4: Decision Tree Classifier\n"
   ]
  },
  {
   "cell_type": "code",
   "execution_count": 404,
   "id": "327daf8c",
   "metadata": {},
   "outputs": [],
   "source": [
    "dc = DecisionTreeClassifier(random_state=42)\n"
   ]
  },
  {
   "cell_type": "code",
   "execution_count": 405,
   "id": "1046c723",
   "metadata": {},
   "outputs": [
    {
     "data": {
      "text/plain": [
       "DecisionTreeClassifier(random_state=42)"
      ]
     },
     "execution_count": 405,
     "metadata": {},
     "output_type": "execute_result"
    }
   ],
   "source": [
    "dc.fit(X_train, Y_train)\n"
   ]
  },
  {
   "cell_type": "code",
   "execution_count": 406,
   "id": "f9119054",
   "metadata": {},
   "outputs": [],
   "source": [
    "y_pred_3 = dc.predict(X_test)\n"
   ]
  },
  {
   "cell_type": "code",
   "execution_count": 407,
   "id": "420ccea9",
   "metadata": {},
   "outputs": [
    {
     "name": "stdout",
     "output_type": "stream",
     "text": [
      "Training Accuracy : 100.0%\n",
      "Testing Accuracy  : 93.3954933954934%\n"
     ]
    }
   ],
   "source": [
    "print(\"Training Accuracy : {}%\".format(dc.score(X_train, Y_train) * 100))\n",
    "print(\"Testing Accuracy  : {}%\".format(dc.score(X_test, Y_test) * 100))"
   ]
  },
  {
   "cell_type": "code",
   "execution_count": 408,
   "id": "bd8be419",
   "metadata": {},
   "outputs": [],
   "source": [
    "rfc = RandomForestClassifier(random_state=42)\n"
   ]
  },
  {
   "cell_type": "code",
   "execution_count": 409,
   "id": "64c99a3a",
   "metadata": {},
   "outputs": [
    {
     "data": {
      "text/plain": [
       "RandomForestClassifier(random_state=42)"
      ]
     },
     "execution_count": 409,
     "metadata": {},
     "output_type": "execute_result"
    }
   ],
   "source": [
    "rfc.fit(X_train, Y_train)\n"
   ]
  },
  {
   "cell_type": "code",
   "execution_count": 410,
   "id": "90661062",
   "metadata": {},
   "outputs": [],
   "source": [
    "y_pred_4 = rfc.predict(X_test)\n"
   ]
  },
  {
   "cell_type": "code",
   "execution_count": 411,
   "id": "dadee906",
   "metadata": {},
   "outputs": [
    {
     "name": "stdout",
     "output_type": "stream",
     "text": [
      "Accuracy: 0.9693084693084693\n"
     ]
    }
   ],
   "source": [
    "print(\"Accuracy:\",metrics.accuracy_score(Y_test, y_pred_4))\n"
   ]
  },
  {
   "cell_type": "code",
   "execution_count": 412,
   "id": "f61efd77",
   "metadata": {},
   "outputs": [
    {
     "name": "stdout",
     "output_type": "stream",
     "text": [
      "Training Accuracy : 100.0%\n",
      "Testing Accuracy  : 96.93084693084693%\n"
     ]
    }
   ],
   "source": [
    "print(\"Training Accuracy : {}%\".format(rfc.score(X_train, Y_train) * 100))\n",
    "print(\"Testing Accuracy  : {}%\".format(rfc.score(X_test, Y_test) * 100))"
   ]
  },
  {
   "cell_type": "markdown",
   "id": "02428c54",
   "metadata": {},
   "source": [
    "4.6: XGB Classifier"
   ]
  },
  {
   "cell_type": "code",
   "execution_count": 413,
   "id": "40ac6d7f",
   "metadata": {},
   "outputs": [],
   "source": [
    "from xgboost import XGBClassifier\n",
    "xgb = XGBClassifier()\n"
   ]
  },
  {
   "cell_type": "code",
   "execution_count": 414,
   "id": "98929abb",
   "metadata": {},
   "outputs": [
    {
     "data": {
      "text/plain": [
       "XGBClassifier(base_score=None, booster=None, callbacks=None,\n",
       "              colsample_bylevel=None, colsample_bynode=None,\n",
       "              colsample_bytree=None, device=None, early_stopping_rounds=None,\n",
       "              enable_categorical=False, eval_metric=None, feature_types=None,\n",
       "              gamma=None, grow_policy=None, importance_type=None,\n",
       "              interaction_constraints=None, learning_rate=None, max_bin=None,\n",
       "              max_cat_threshold=None, max_cat_to_onehot=None,\n",
       "              max_delta_step=None, max_depth=None, max_leaves=None,\n",
       "              min_child_weight=None, missing=nan, monotone_constraints=None,\n",
       "              multi_strategy=None, n_estimators=None, n_jobs=None,\n",
       "              num_parallel_tree=None, random_state=None, ...)"
      ]
     },
     "execution_count": 414,
     "metadata": {},
     "output_type": "execute_result"
    }
   ],
   "source": [
    "xgb.fit(X_train, Y_train)\n"
   ]
  },
  {
   "cell_type": "code",
   "execution_count": 415,
   "id": "623de320",
   "metadata": {},
   "outputs": [],
   "source": [
    "y_pred_5 = xgb.predict(X_test)\n"
   ]
  },
  {
   "cell_type": "code",
   "execution_count": 416,
   "id": "651ccbec",
   "metadata": {},
   "outputs": [
    {
     "name": "stdout",
     "output_type": "stream",
     "text": [
      "Accuracy: 0.9514374514374514\n"
     ]
    }
   ],
   "source": [
    "print(\"Accuracy:\",metrics.accuracy_score(Y_test, y_pred_5))\n"
   ]
  },
  {
   "cell_type": "code",
   "execution_count": 417,
   "id": "b8366ec9",
   "metadata": {},
   "outputs": [
    {
     "name": "stdout",
     "output_type": "stream",
     "text": [
      "Training Accuracy : 99.75714008160094%\n",
      "Testing Accuracy  : 95.14374514374514%\n"
     ]
    }
   ],
   "source": [
    "print(\"Training Accuracy : {}%\".format(xgb.score(X_train, Y_train) * 100))\n",
    "print(\"Testing Accuracy  : {}%\".format(xgb.score(X_test, Y_test) * 100))"
   ]
  },
  {
   "cell_type": "markdown",
   "id": "dfb0c0ce",
   "metadata": {},
   "source": [
    "# Model Evaluation"
   ]
  },
  {
   "cell_type": "code",
   "execution_count": 418,
   "id": "048ef672",
   "metadata": {},
   "outputs": [],
   "source": [
    "from sklearn.metrics import f1_score\n"
   ]
  },
  {
   "cell_type": "code",
   "execution_count": 420,
   "id": "77a6fca0",
   "metadata": {},
   "outputs": [
    {
     "name": "stdout",
     "output_type": "stream",
     "text": [
      "Logistic Regression:\n",
      "Accuracy score: 78.75\n",
      "F1 score: 78.61\n"
     ]
    }
   ],
   "source": [
    "print('Logistic Regression:')\n",
    "print('Accuracy score:', round(accuracy_score(Y_test, y_pred) * 100, 2))\n",
    "print('F1 score:', round(f1_score(Y_test, y_pred) * 100, 2))\n"
   ]
  },
  {
   "cell_type": "code",
   "execution_count": 421,
   "id": "4ab8010f",
   "metadata": {},
   "outputs": [
    {
     "name": "stdout",
     "output_type": "stream",
     "text": [
      "KNN Classifier:\n",
      "Accuracy score: 86.6\n",
      "F1 score: 87.26\n"
     ]
    }
   ],
   "source": [
    "print('KNN Classifier:')\n",
    "print('Accuracy score:', round(accuracy_score(Y_test, y_pred_1) * 100, 2))\n",
    "print('F1 score:', round(f1_score(Y_test, y_pred_1) * 100, 2))"
   ]
  },
  {
   "cell_type": "code",
   "execution_count": 422,
   "id": "cc483cde",
   "metadata": {},
   "outputs": [
    {
     "name": "stdout",
     "output_type": "stream",
     "text": [
      "Support Vector Classifier:\n",
      "Accuracy score: 84.38\n",
      "F1 score: 84.64\n"
     ]
    }
   ],
   "source": [
    "print('Support Vector Classifier:')\n",
    "print('Accuracy score:', round(accuracy_score(Y_test, Y_pred_2) * 100, 2))\n",
    "print('F1 score:', round(f1_score(Y_test, Y_pred_2) * 100, 2))"
   ]
  },
  {
   "cell_type": "code",
   "execution_count": 423,
   "id": "4fdb7a27",
   "metadata": {},
   "outputs": [
    {
     "name": "stdout",
     "output_type": "stream",
     "text": [
      "Decision Tree Classifier:\n",
      "Accuracy score: 93.4\n",
      "F1 score: 93.69\n"
     ]
    }
   ],
   "source": [
    "print('Decision Tree Classifier:')\n",
    "print('Accuracy score:', round(accuracy_score(Y_test, y_pred_3) * 100, 2))\n",
    "print('F1 score:', round(f1_score(Y_test, y_pred_3) * 100, 2))"
   ]
  },
  {
   "cell_type": "code",
   "execution_count": 424,
   "id": "6771513f",
   "metadata": {},
   "outputs": [
    {
     "name": "stdout",
     "output_type": "stream",
     "text": [
      "Random Forest Classifier:\n",
      "Accuracy score: 96.93\n",
      "F1 score: 96.99\n"
     ]
    }
   ],
   "source": [
    "print('Random Forest Classifier:')\n",
    "print('Accuracy score:', round(accuracy_score(Y_test, y_pred_4) * 100, 2))\n",
    "print('F1 score:', round(f1_score(Y_test, y_pred_4) * 100, 2))"
   ]
  },
  {
   "cell_type": "code",
   "execution_count": 425,
   "id": "ec0a8ad4",
   "metadata": {},
   "outputs": [
    {
     "name": "stdout",
     "output_type": "stream",
     "text": [
      "XGB Classifier:\n",
      "Accuracy score: 95.14\n",
      "F1 score: 95.26\n"
     ]
    }
   ],
   "source": [
    "print('XGB Classifier:')\n",
    "print('Accuracy score:', round(accuracy_score(Y_test, y_pred_5) * 100, 2))\n",
    "print('F1 score:', round(f1_score(Y_test, y_pred_5) * 100, 2))"
   ]
  },
  {
   "cell_type": "markdown",
   "id": "71c6cb74",
   "metadata": {},
   "source": [
    "# Hyperparameter Tuning"
   ]
  },
  {
   "cell_type": "code",
   "execution_count": 426,
   "id": "298e0aa0",
   "metadata": {},
   "outputs": [],
   "source": [
    "from sklearn.model_selection import RandomizedSearchCV\n"
   ]
  },
  {
   "cell_type": "code",
   "execution_count": 427,
   "id": "fc0f395e",
   "metadata": {},
   "outputs": [],
   "source": [
    "n_estimators = [int(x) for x in np.linspace(start=40, stop=150, num=15)]\n",
    "max_depth = [int(x) for x in np.linspace(40, 150, num=15)]\n"
   ]
  },
  {
   "cell_type": "code",
   "execution_count": 428,
   "id": "69c249f8",
   "metadata": {},
   "outputs": [],
   "source": [
    "param_dist = {\n",
    "    'n_estimators': n_estimators,\n",
    "    'max_depth': max_depth,\n",
    "}"
   ]
  },
  {
   "cell_type": "code",
   "execution_count": 429,
   "id": "30fec20c",
   "metadata": {},
   "outputs": [],
   "source": [
    "rfc_tuned = RandomForestClassifier(random_state=42)\n"
   ]
  },
  {
   "cell_type": "code",
   "execution_count": 430,
   "id": "d0ecb395",
   "metadata": {},
   "outputs": [],
   "source": [
    "rfc_cv = RandomizedSearchCV(\n",
    "    estimator=rfc_tuned, param_distributions=param_dist, cv=5, random_state=42)"
   ]
  },
  {
   "cell_type": "code",
   "execution_count": 431,
   "id": "1ff4fdd6",
   "metadata": {},
   "outputs": [
    {
     "data": {
      "text/plain": [
       "RandomizedSearchCV(cv=5, estimator=RandomForestClassifier(random_state=42),\n",
       "                   param_distributions={'max_depth': [40, 47, 55, 63, 71, 79,\n",
       "                                                      87, 95, 102, 110, 118,\n",
       "                                                      126, 134, 142, 150],\n",
       "                                        'n_estimators': [40, 47, 55, 63, 71, 79,\n",
       "                                                         87, 95, 102, 110, 118,\n",
       "                                                         126, 134, 142, 150]},\n",
       "                   random_state=42)"
      ]
     },
     "execution_count": 431,
     "metadata": {},
     "output_type": "execute_result"
    }
   ],
   "source": [
    "rfc_cv.fit(X_train, Y_train)\n"
   ]
  },
  {
   "cell_type": "code",
   "execution_count": 432,
   "id": "f3e3d1bd",
   "metadata": {},
   "outputs": [
    {
     "data": {
      "text/plain": [
       "0.9533707995097018"
      ]
     },
     "execution_count": 432,
     "metadata": {},
     "output_type": "execute_result"
    }
   ],
   "source": [
    "rfc_cv.best_score_\n"
   ]
  },
  {
   "cell_type": "code",
   "execution_count": 433,
   "id": "4c9ae632",
   "metadata": {},
   "outputs": [
    {
     "data": {
      "text/plain": [
       "{'n_estimators': 142, 'max_depth': 110}"
      ]
     },
     "execution_count": 433,
     "metadata": {},
     "output_type": "execute_result"
    }
   ],
   "source": [
    "rfc_cv.best_params_\n"
   ]
  },
  {
   "cell_type": "code",
   "execution_count": 434,
   "id": "a77a336f",
   "metadata": {},
   "outputs": [],
   "source": [
    "rfc_best = RandomForestClassifier(\n",
    "    max_depth=110, n_estimators=142, random_state=42)"
   ]
  },
  {
   "cell_type": "code",
   "execution_count": 435,
   "id": "c57ed0d8",
   "metadata": {},
   "outputs": [
    {
     "data": {
      "text/plain": [
       "RandomForestClassifier(max_depth=110, n_estimators=142, random_state=42)"
      ]
     },
     "execution_count": 435,
     "metadata": {},
     "output_type": "execute_result"
    }
   ],
   "source": [
    "rfc_best.fit(X_train, Y_train)\n"
   ]
  },
  {
   "cell_type": "code",
   "execution_count": 436,
   "id": "166f72ab",
   "metadata": {},
   "outputs": [],
   "source": [
    "Y_pred_rfc_best = rfc_best.predict(X_test)\n"
   ]
  },
  {
   "cell_type": "code",
   "execution_count": 437,
   "id": "c58a020c",
   "metadata": {},
   "outputs": [
    {
     "name": "stdout",
     "output_type": "stream",
     "text": [
      "Random Forest Classifier:\n",
      "Accuracy score: 96.97\n",
      "F1 score: 97.03\n"
     ]
    }
   ],
   "source": [
    "print('Random Forest Classifier:')\n",
    "print('Accuracy score:', round(accuracy_score(Y_test, Y_pred_rfc_best) * 100, 2))\n",
    "print('F1 score:', round(f1_score(Y_test, Y_pred_rfc_best) * 100, 2))"
   ]
  },
  {
   "cell_type": "markdown",
   "id": "95c32a17",
   "metadata": {},
   "source": [
    "Conclusion: \n",
    "In this project, we build various models like logistic regression, knn classifier, support vector classifier, decision tree classifier, random forest classifier and xgboost classifier.\n",
    "\n",
    "A hyperparameter tuned random forest classifier gives the highest accuracy score of 96.97 and f1 score of 97.03."
   ]
  },
  {
   "cell_type": "markdown",
   "id": "6c287fb8",
   "metadata": {},
   "source": [
    "# 2nd part"
   ]
  },
  {
   "cell_type": "markdown",
   "id": "7bf079fd",
   "metadata": {},
   "source": [
    "# predict how much rainfall could be there."
   ]
  },
  {
   "cell_type": "code",
   "execution_count": 438,
   "id": "77f1ed91",
   "metadata": {},
   "outputs": [],
   "source": [
    "X = rwf_df.drop('Rainfall', axis=1)\n",
    "Y = rwf_df['Rainfall']"
   ]
  },
  {
   "cell_type": "code",
   "execution_count": 439,
   "id": "127820ee",
   "metadata": {},
   "outputs": [],
   "source": [
    "for col in X.columns:\n",
    "    scaler = StandardScaler()\n",
    "    X[col] = scaler.fit_transform(X[col].values.reshape(-1, 1))"
   ]
  },
  {
   "cell_type": "markdown",
   "id": "0203861d",
   "metadata": {},
   "source": [
    " Creating a train test split"
   ]
  },
  {
   "cell_type": "code",
   "execution_count": 441,
   "id": "2b8b2163",
   "metadata": {},
   "outputs": [],
   "source": [
    "X_train, X_test, Y_train, Y_test = train_test_split(\n",
    "    X, Y, test_size=0.2, random_state=42)"
   ]
  },
  {
   "cell_type": "markdown",
   "id": "e7a8fad9",
   "metadata": {},
   "source": [
    "# Data Modelling"
   ]
  },
  {
   "cell_type": "markdown",
   "id": "02901afb",
   "metadata": {},
   "source": [
    "1:KNeighborsRegressor"
   ]
  },
  {
   "cell_type": "code",
   "execution_count": 442,
   "id": "e249e8c0",
   "metadata": {},
   "outputs": [],
   "source": [
    "from sklearn.neighbors import KNeighborsRegressor\n",
    "\n",
    "knn = KNeighborsRegressor()"
   ]
  },
  {
   "cell_type": "code",
   "execution_count": 443,
   "id": "5f12033e",
   "metadata": {},
   "outputs": [
    {
     "data": {
      "text/plain": [
       "KNeighborsRegressor()"
      ]
     },
     "execution_count": 443,
     "metadata": {},
     "output_type": "execute_result"
    }
   ],
   "source": [
    "knn.fit(X_train,Y_train)"
   ]
  },
  {
   "cell_type": "code",
   "execution_count": 444,
   "id": "ff71086b",
   "metadata": {},
   "outputs": [],
   "source": [
    "y_pred_1= knn.predict(X_test)\n"
   ]
  },
  {
   "cell_type": "code",
   "execution_count": 446,
   "id": "457f0d84",
   "metadata": {},
   "outputs": [
    {
     "name": "stdout",
     "output_type": "stream",
     "text": [
      "Training Accuracy : 87.21974238443902%\n",
      "Testing Accuracy  : 80.28069028731943%\n"
     ]
    }
   ],
   "source": [
    "print(\"Training Accuracy : {}%\".format(knn.score(X_train, Y_train) * 100))\n",
    "print(\"Testing Accuracy  : {}%\".format(knn.score(X_test, Y_test) * 100))"
   ]
  },
  {
   "cell_type": "markdown",
   "id": "ea299a6b",
   "metadata": {},
   "source": [
    "DecisionTreeRegressor"
   ]
  },
  {
   "cell_type": "code",
   "execution_count": 447,
   "id": "d95495db",
   "metadata": {},
   "outputs": [],
   "source": [
    "from sklearn.tree import DecisionTreeRegressor\n",
    "dtr=DecisionTreeRegressor()\n",
    "dtr.fit(X_train,Y_train)\n",
    "y_pred_2=dtr.predict(X_test)"
   ]
  },
  {
   "cell_type": "code",
   "execution_count": 448,
   "id": "40cd4579",
   "metadata": {},
   "outputs": [
    {
     "name": "stdout",
     "output_type": "stream",
     "text": [
      "Training Accuracy : 100.0%\n",
      "Testing Accuracy  : 87.6631530232779%\n"
     ]
    }
   ],
   "source": [
    "print(\"Training Accuracy : {}%\".format(dtr.score(X_train, Y_train) * 100))\n",
    "print(\"Testing Accuracy  : {}%\".format(dtr.score(X_test, Y_test) * 100))"
   ]
  },
  {
   "cell_type": "markdown",
   "id": "41fdcfe3",
   "metadata": {},
   "source": [
    "RandomForestRegressor"
   ]
  },
  {
   "cell_type": "code",
   "execution_count": 450,
   "id": "b9b78784",
   "metadata": {},
   "outputs": [],
   "source": [
    "rdr = RandomForestRegressor()\n",
    "rdr.fit(X_train,Y_train)\n",
    "y_pred_3=rdr.predict(X_test)"
   ]
  },
  {
   "cell_type": "code",
   "execution_count": 451,
   "id": "c7ccc9a8",
   "metadata": {},
   "outputs": [
    {
     "name": "stdout",
     "output_type": "stream",
     "text": [
      "Training Accuracy : 98.75412461235284%\n",
      "Testing Accuracy  : 91.97023694173623%\n"
     ]
    }
   ],
   "source": [
    "print(\"Training Accuracy : {}%\".format(rdr.score(X_train, Y_train) * 100))\n",
    "print(\"Testing Accuracy  : {}%\".format(rdr.score(X_test, Y_test) * 100))"
   ]
  },
  {
   "cell_type": "markdown",
   "id": "bf348a4d",
   "metadata": {},
   "source": [
    "LinearRegression"
   ]
  },
  {
   "cell_type": "code",
   "execution_count": 454,
   "id": "ca7812c5",
   "metadata": {},
   "outputs": [],
   "source": [
    "lr = LinearRegression()\n",
    "lr.fit(X_train,Y_train)\n",
    "y_pred_4=lr.predict(X_test)"
   ]
  },
  {
   "cell_type": "code",
   "execution_count": 455,
   "id": "72de6b92",
   "metadata": {},
   "outputs": [
    {
     "name": "stdout",
     "output_type": "stream",
     "text": [
      "Training Accuracy : 81.66096457563394%\n",
      "Testing Accuracy  : 81.30861147091252%\n"
     ]
    }
   ],
   "source": [
    "print(\"Training Accuracy : {}%\".format(lr.score(X_train, Y_train) * 100))\n",
    "print(\"Testing Accuracy  : {}%\".format(lr.score(X_test, Y_test) * 100))"
   ]
  },
  {
   "cell_type": "markdown",
   "id": "41028ac0",
   "metadata": {},
   "source": [
    "# model evaluation "
   ]
  },
  {
   "cell_type": "code",
   "execution_count": 460,
   "id": "3d79574a",
   "metadata": {},
   "outputs": [
    {
     "name": "stdout",
     "output_type": "stream",
     "text": [
      "KNN Regressor:\n",
      "R-squared (R2) Score: 0.8\n",
      "Mean Absolute Error: 0.3\n"
     ]
    }
   ],
   "source": [
    "print('KNN Regressor:')\n",
    "from sklearn.metrics import r2_score\n",
    "\n",
    "r2 = r2_score(Y_test, y_pred_1)\n",
    "print('R-squared (R2) Score:', round(r2, 2))\n",
    "from sklearn.metrics import mean_absolute_error\n",
    "\n",
    "mae = mean_absolute_error(Y_test, y_pred_1)\n",
    "print('Mean Absolute Error:', round(mae, 2))\n"
   ]
  },
  {
   "cell_type": "code",
   "execution_count": 461,
   "id": "d4c7ddc3",
   "metadata": {},
   "outputs": [
    {
     "name": "stdout",
     "output_type": "stream",
     "text": [
      "Decision Tree Regressor:\n",
      "Mean Absolute Error: 0.15\n",
      "R-squared (R2) Score: 0.88\n"
     ]
    }
   ],
   "source": [
    "print('Decision Tree Regressor:')\n",
    "mae = mean_absolute_error(Y_test, y_pred_2)\n",
    "print('Mean Absolute Error:', round(mae, 2))\n",
    "\n",
    "r2 = r2_score(Y_test, y_pred_2)\n",
    "print('R-squared (R2) Score:', round(r2, 2))\n",
    "\n",
    "\n"
   ]
  },
  {
   "cell_type": "code",
   "execution_count": 462,
   "id": "8ad64a54",
   "metadata": {},
   "outputs": [
    {
     "name": "stdout",
     "output_type": "stream",
     "text": [
      "RandomForestRegressor\n",
      "Mean Absolute Error: 0.2\n",
      "R-squared (R2) Score: 0.92\n"
     ]
    }
   ],
   "source": [
    "print('RandomForestRegressor')\n",
    "mae = mean_absolute_error(Y_test, y_pred_3)\n",
    "print('Mean Absolute Error:', round(mae, 2))\n",
    "\n",
    "r2 = r2_score(Y_test, y_pred_3)\n",
    "print('R-squared (R2) Score:', round(r2, 2))\n"
   ]
  },
  {
   "cell_type": "code",
   "execution_count": 463,
   "id": "a814b759",
   "metadata": {},
   "outputs": [
    {
     "name": "stdout",
     "output_type": "stream",
     "text": [
      "LinearRegression\n",
      "Mean Absolute Error: 0.33\n",
      "R-squared (R2) Score: 0.81\n"
     ]
    }
   ],
   "source": [
    "print('LinearRegression')\n",
    "mae = mean_absolute_error(Y_test, y_pred_4)\n",
    "print('Mean Absolute Error:', round(mae, 2))\n",
    "\n",
    "r2 = r2_score(Y_test, y_pred_4)\n",
    "print('R-squared (R2) Score:', round(r2, 2))\n"
   ]
  },
  {
   "cell_type": "markdown",
   "id": "002adefa",
   "metadata": {},
   "source": [
    "# Hyperparameter Tuning"
   ]
  },
  {
   "cell_type": "code",
   "execution_count": 464,
   "id": "20640771",
   "metadata": {},
   "outputs": [],
   "source": [
    "rf_regressor = RandomForestRegressor()\n"
   ]
  },
  {
   "cell_type": "code",
   "execution_count": 469,
   "id": "5a5f8b10",
   "metadata": {},
   "outputs": [],
   "source": [
    "n_estimators = [int(x) for x in np.linspace(start=40, stop=150, num=15)]\n",
    "max_depth = [int(x) for x in np.linspace(40, 150, num=15)]\n"
   ]
  },
  {
   "cell_type": "code",
   "execution_count": 475,
   "id": "b35150a6",
   "metadata": {},
   "outputs": [
    {
     "name": "stdout",
     "output_type": "stream",
     "text": [
      "{'n_estimators': [200, 400, 600, 800, 1000, 1200, 1400, 1600, 1800, 2000], 'max_features': ['auto', 'sqrt'], 'max_depth': [10, 20, 30, 40, 50, 60, 70, 80, 90, 100, 110, None], 'min_samples_split': [2, 5, 10], 'min_samples_leaf': [1, 2, 4], 'bootstrap': [True, False]}\n"
     ]
    },
    {
     "data": {
      "text/plain": [
       "{'bootstrap': [True, False],\n",
       " 'max_depth': [10, 20, 30, 40, 50, 60, 70, 80, 90, 100, None],\n",
       " 'max_features': ['auto', 'sqrt'],\n",
       " 'min_samples_leaf': [1, 2, 4],\n",
       " 'min_samples_split': [2, 5, 10],\n",
       " 'n_estimators': [200, 400, 600, 800, 1000, 1200, 1400, 1600, 1800, 2000]}"
      ]
     },
     "execution_count": 475,
     "metadata": {},
     "output_type": "execute_result"
    }
   ],
   "source": [
    "# Number of trees in random forest\n",
    "n_estimators = [int(x) for x in np.linspace(start = 200, stop = 2000, num = 10)]\n",
    "# Number of features to consider at every split\n",
    "max_features = ['auto', 'sqrt']\n",
    "# Maximum number of levels in tree\n",
    "max_depth = [int(x) for x in np.linspace(10, 110, num = 11)]\n",
    "max_depth.append(None)\n",
    "# Minimum number of samples required to split a node\n",
    "min_samples_split = [2, 5, 10]\n",
    "# Minimum number of samples required at each leaf node\n",
    "min_samples_leaf = [1, 2, 4]\n",
    "# Method of selecting samples for training each tree\n",
    "bootstrap = [True, False]\n",
    "# Create the random grid\n",
    "random_grid = {'n_estimators': n_estimators,\n",
    "               'max_features': max_features,\n",
    "               'max_depth': max_depth,\n",
    "               'min_samples_split': min_samples_split,\n",
    "               'min_samples_leaf': min_samples_leaf,\n",
    "               'bootstrap': bootstrap}\n",
    "print(random_grid)\n",
    "{'bootstrap': [True, False],\n",
    " 'max_depth': [10, 20, 30, 40, 50, 60, 70, 80, 90, 100, None],\n",
    " 'max_features': ['auto', 'sqrt'],\n",
    " 'min_samples_leaf': [1, 2, 4],\n",
    " 'min_samples_split': [2, 5, 10],\n",
    " 'n_estimators': [200, 400, 600, 800, 1000, 1200, 1400, 1600, 1800, 2000]}"
   ]
  },
  {
   "cell_type": "code",
   "execution_count": 476,
   "id": "7562c48b",
   "metadata": {},
   "outputs": [],
   "source": [
    "rfr_tuned = RandomForestRegressor(random_state=42)\n"
   ]
  },
  {
   "cell_type": "code",
   "execution_count": 478,
   "id": "ad39623f",
   "metadata": {},
   "outputs": [],
   "source": [
    "rfr_cv = RandomizedSearchCV(estimator = rfr_tuned, param_distributions = random_grid, n_iter = 100, cv = 3, verbose=2, random_state=42, n_jobs = -1)"
   ]
  },
  {
   "cell_type": "code",
   "execution_count": 479,
   "id": "69711f9e",
   "metadata": {},
   "outputs": [
    {
     "name": "stdout",
     "output_type": "stream",
     "text": [
      "Fitting 3 folds for each of 100 candidates, totalling 300 fits\n"
     ]
    },
    {
     "data": {
      "text/plain": [
       "RandomizedSearchCV(cv=3, estimator=RandomForestRegressor(random_state=42),\n",
       "                   n_iter=100, n_jobs=-1,\n",
       "                   param_distributions={'bootstrap': [True, False],\n",
       "                                        'max_depth': [10, 20, 30, 40, 50, 60,\n",
       "                                                      70, 80, 90, 100, 110,\n",
       "                                                      None],\n",
       "                                        'max_features': ['auto', 'sqrt'],\n",
       "                                        'min_samples_leaf': [1, 2, 4],\n",
       "                                        'min_samples_split': [2, 5, 10],\n",
       "                                        'n_estimators': [200, 400, 600, 800,\n",
       "                                                         1000, 1200, 1400, 1600,\n",
       "                                                         1800, 2000]},\n",
       "                   random_state=42, verbose=2)"
      ]
     },
     "execution_count": 479,
     "metadata": {},
     "output_type": "execute_result"
    }
   ],
   "source": [
    "rfr_cv.fit(X_train, Y_train)\n"
   ]
  },
  {
   "cell_type": "code",
   "execution_count": 480,
   "id": "cbdef638",
   "metadata": {},
   "outputs": [
    {
     "data": {
      "text/plain": [
       "0.887739281408329"
      ]
     },
     "execution_count": 480,
     "metadata": {},
     "output_type": "execute_result"
    }
   ],
   "source": [
    "rfr_cv.best_score_\n"
   ]
  },
  {
   "cell_type": "code",
   "execution_count": 481,
   "id": "9f10df32",
   "metadata": {},
   "outputs": [
    {
     "data": {
      "text/plain": [
       "{'n_estimators': 1400,\n",
       " 'min_samples_split': 2,\n",
       " 'min_samples_leaf': 1,\n",
       " 'max_features': 'auto',\n",
       " 'max_depth': 100,\n",
       " 'bootstrap': True}"
      ]
     },
     "execution_count": 481,
     "metadata": {},
     "output_type": "execute_result"
    }
   ],
   "source": [
    "rfr_cv.best_params_\n"
   ]
  },
  {
   "cell_type": "code",
   "execution_count": 488,
   "id": "d770b8e0",
   "metadata": {},
   "outputs": [],
   "source": [
    "rfr_best = RandomForestRegressor(\n",
    "    n_estimators= 1400,\n",
    " min_samples_split= 2,\n",
    " min_samples_leaf= 1,\n",
    " max_features= 'auto',\n",
    " max_depth= 100,\n",
    " bootstrap= True)"
   ]
  },
  {
   "cell_type": "code",
   "execution_count": 490,
   "id": "857b44a1",
   "metadata": {},
   "outputs": [
    {
     "data": {
      "text/plain": [
       "RandomForestRegressor(max_depth=100, n_estimators=1400)"
      ]
     },
     "execution_count": 490,
     "metadata": {},
     "output_type": "execute_result"
    }
   ],
   "source": [
    "rfr_best.fit(X_train, Y_train)\n"
   ]
  },
  {
   "cell_type": "code",
   "execution_count": 491,
   "id": "4b2f5f25",
   "metadata": {},
   "outputs": [],
   "source": [
    "Y_pred_rfr_best = rfr_best.predict(X_test)\n"
   ]
  },
  {
   "cell_type": "code",
   "execution_count": 493,
   "id": "0268ddc7",
   "metadata": {},
   "outputs": [
    {
     "name": "stdout",
     "output_type": "stream",
     "text": [
      "RandomForestRegressor\n",
      "Mean Squared Error on Test Set: 0.14002995814440736\n",
      "R-squared: 0.9198216509580164\n"
     ]
    }
   ],
   "source": [
    "print('RandomForestRegressor')\n",
    "mse = mean_squared_error(Y_test, Y_pred_rfr_best)\n",
    "print(\"Mean Squared Error on Test Set:\", mse)\n",
    "r2 = r2_score(Y_test, Y_pred_rfr_best)\n",
    "\n",
    "print(f'R-squared: {r2}')"
   ]
  },
  {
   "cell_type": "markdown",
   "id": "9788f2a1",
   "metadata": {},
   "source": [
    "Conclusion:\n",
    "KNN IS GIVING THE BEST SCORE"
   ]
  },
  {
   "cell_type": "code",
   "execution_count": null,
   "id": "19c4f416",
   "metadata": {},
   "outputs": [],
   "source": []
  }
 ],
 "metadata": {
  "kernelspec": {
   "display_name": "Python 3 (ipykernel)",
   "language": "python",
   "name": "python3"
  },
  "language_info": {
   "codemirror_mode": {
    "name": "ipython",
    "version": 3
   },
   "file_extension": ".py",
   "mimetype": "text/x-python",
   "name": "python",
   "nbconvert_exporter": "python",
   "pygments_lexer": "ipython3",
   "version": "3.9.13"
  }
 },
 "nbformat": 4,
 "nbformat_minor": 5
}
